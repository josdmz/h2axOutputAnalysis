{
 "cells": [
  {
   "cell_type": "markdown",
   "metadata": {},
   "source": [
    "\n",
    "2nd run \n",
    "take the raw data and remove image sets with not enough cells detected \n",
    "\n",
    "start with a min of 15 nucleii\n",
    "\n",
    "remove E26_NIC2_53\n",
    "\n",
    "remove any rows with <15nuc"
   ]
  },
  {
   "cell_type": "markdown",
   "metadata": {},
   "source": [
    "try to do the same process with the fist data set to add it to 2,3"
   ]
  },
  {
   "cell_type": "code",
   "execution_count": 1,
   "metadata": {},
   "outputs": [],
   "source": [
    "import pandas as pd\n",
    "import numpy as np\n",
    "import matplotlib.pyplot as plt\n",
    "import seaborn as sns"
   ]
  },
  {
   "cell_type": "code",
   "execution_count": null,
   "metadata": {},
   "outputs": [],
   "source": []
  },
  {
   "cell_type": "code",
   "execution_count": 2,
   "metadata": {},
   "outputs": [
    {
     "data": {
      "text/html": [
       "<div>\n",
       "<style scoped>\n",
       "    .dataframe tbody tr th:only-of-type {\n",
       "        vertical-align: middle;\n",
       "    }\n",
       "\n",
       "    .dataframe tbody tr th {\n",
       "        vertical-align: top;\n",
       "    }\n",
       "\n",
       "    .dataframe thead th {\n",
       "        text-align: right;\n",
       "    }\n",
       "</style>\n",
       "<table border=\"1\" class=\"dataframe\">\n",
       "  <thead>\n",
       "    <tr style=\"text-align: right;\">\n",
       "      <th></th>\n",
       "      <th>Count_Nuclei</th>\n",
       "      <th>Count_RO_PositiveNuclei</th>\n",
       "      <th>Count_h2AX</th>\n",
       "      <th>FileName_DAPI</th>\n",
       "      <th>FileName_Green</th>\n",
       "      <th>Group</th>\n",
       "      <th>ImageNumber</th>\n",
       "      <th>Math_PercentPositiveNuclei</th>\n",
       "      <th>Mean_Nuclei_AreaShape_Area</th>\n",
       "      <th>Mean_Nuclei_AreaShape_Center_X</th>\n",
       "      <th>...</th>\n",
       "      <th>Mean_h2AX_Mean_Nuclei_AreaShape_MedianRadius</th>\n",
       "      <th>Mean_h2AX_Mean_Nuclei_AreaShape_MinFeretDiameter</th>\n",
       "      <th>Mean_h2AX_Mean_Nuclei_AreaShape_MinorAxisLength</th>\n",
       "      <th>Mean_h2AX_Mean_Nuclei_AreaShape_Orientation</th>\n",
       "      <th>Mean_h2AX_Mean_Nuclei_AreaShape_Perimeter</th>\n",
       "      <th>Mean_h2AX_Mean_Nuclei_AreaShape_Solidity</th>\n",
       "      <th>Mean_h2AX_Mean_Nuclei_Location_Center_X</th>\n",
       "      <th>Mean_h2AX_Mean_Nuclei_Location_Center_Y</th>\n",
       "      <th>Mean_h2AX_Mean_Nuclei_Location_Center_Z</th>\n",
       "      <th>Mean_h2AX_Mean_Nuclei_Number_Object_Number</th>\n",
       "    </tr>\n",
       "  </thead>\n",
       "  <tbody>\n",
       "    <tr>\n",
       "      <th>0</th>\n",
       "      <td>85</td>\n",
       "      <td>20</td>\n",
       "      <td>130</td>\n",
       "      <td>CSE_5B_74_c1.tif</td>\n",
       "      <td>CSE_5B_74_c0.tif</td>\n",
       "      <td>CSE</td>\n",
       "      <td>1</td>\n",
       "      <td>23.529412</td>\n",
       "      <td>2323.011765</td>\n",
       "      <td>773.470588</td>\n",
       "      <td>...</td>\n",
       "      <td>7.994622</td>\n",
       "      <td>46.824037</td>\n",
       "      <td>46.940902</td>\n",
       "      <td>-35.479833</td>\n",
       "      <td>212.269300</td>\n",
       "      <td>0.955859</td>\n",
       "      <td>711.309374</td>\n",
       "      <td>532.216723</td>\n",
       "      <td>0</td>\n",
       "      <td>44.550000</td>\n",
       "    </tr>\n",
       "    <tr>\n",
       "      <th>1</th>\n",
       "      <td>76</td>\n",
       "      <td>19</td>\n",
       "      <td>149</td>\n",
       "      <td>CSE_5B_75_c1.tif</td>\n",
       "      <td>CSE_5B_75_c0.tif</td>\n",
       "      <td>CSE</td>\n",
       "      <td>2</td>\n",
       "      <td>25.000000</td>\n",
       "      <td>2420.289474</td>\n",
       "      <td>742.434211</td>\n",
       "      <td>...</td>\n",
       "      <td>8.079331</td>\n",
       "      <td>48.777488</td>\n",
       "      <td>49.190027</td>\n",
       "      <td>-19.057108</td>\n",
       "      <td>217.128632</td>\n",
       "      <td>0.956019</td>\n",
       "      <td>866.491149</td>\n",
       "      <td>469.159900</td>\n",
       "      <td>0</td>\n",
       "      <td>34.421053</td>\n",
       "    </tr>\n",
       "    <tr>\n",
       "      <th>2</th>\n",
       "      <td>68</td>\n",
       "      <td>17</td>\n",
       "      <td>179</td>\n",
       "      <td>CSE_5B_76_c1.tif</td>\n",
       "      <td>CSE_5B_76_c0.tif</td>\n",
       "      <td>CSE</td>\n",
       "      <td>3</td>\n",
       "      <td>25.000000</td>\n",
       "      <td>2795.705882</td>\n",
       "      <td>772.691176</td>\n",
       "      <td>...</td>\n",
       "      <td>9.133352</td>\n",
       "      <td>49.771266</td>\n",
       "      <td>50.581981</td>\n",
       "      <td>-47.616923</td>\n",
       "      <td>229.399059</td>\n",
       "      <td>0.970854</td>\n",
       "      <td>865.658359</td>\n",
       "      <td>547.649486</td>\n",
       "      <td>0</td>\n",
       "      <td>35.588235</td>\n",
       "    </tr>\n",
       "    <tr>\n",
       "      <th>3</th>\n",
       "      <td>60</td>\n",
       "      <td>18</td>\n",
       "      <td>146</td>\n",
       "      <td>CSE_5B_77_c1.tif</td>\n",
       "      <td>CSE_5B_77_c0.tif</td>\n",
       "      <td>CSE</td>\n",
       "      <td>4</td>\n",
       "      <td>30.000000</td>\n",
       "      <td>2624.433333</td>\n",
       "      <td>718.500000</td>\n",
       "      <td>...</td>\n",
       "      <td>8.081635</td>\n",
       "      <td>43.463653</td>\n",
       "      <td>44.655614</td>\n",
       "      <td>-16.278801</td>\n",
       "      <td>214.215222</td>\n",
       "      <td>0.966192</td>\n",
       "      <td>758.001636</td>\n",
       "      <td>546.344099</td>\n",
       "      <td>0</td>\n",
       "      <td>28.277778</td>\n",
       "    </tr>\n",
       "    <tr>\n",
       "      <th>4</th>\n",
       "      <td>74</td>\n",
       "      <td>21</td>\n",
       "      <td>90</td>\n",
       "      <td>CSE_5B_78_c1.tif</td>\n",
       "      <td>CSE_5B_78_c0.tif</td>\n",
       "      <td>CSE</td>\n",
       "      <td>5</td>\n",
       "      <td>28.378378</td>\n",
       "      <td>2347.027027</td>\n",
       "      <td>817.662162</td>\n",
       "      <td>...</td>\n",
       "      <td>8.113037</td>\n",
       "      <td>47.134167</td>\n",
       "      <td>47.348220</td>\n",
       "      <td>-13.654593</td>\n",
       "      <td>211.370857</td>\n",
       "      <td>0.956950</td>\n",
       "      <td>889.666950</td>\n",
       "      <td>397.935124</td>\n",
       "      <td>0</td>\n",
       "      <td>28.142857</td>\n",
       "    </tr>\n",
       "    <tr>\n",
       "      <th>...</th>\n",
       "      <td>...</td>\n",
       "      <td>...</td>\n",
       "      <td>...</td>\n",
       "      <td>...</td>\n",
       "      <td>...</td>\n",
       "      <td>...</td>\n",
       "      <td>...</td>\n",
       "      <td>...</td>\n",
       "      <td>...</td>\n",
       "      <td>...</td>\n",
       "      <td>...</td>\n",
       "      <td>...</td>\n",
       "      <td>...</td>\n",
       "      <td>...</td>\n",
       "      <td>...</td>\n",
       "      <td>...</td>\n",
       "      <td>...</td>\n",
       "      <td>...</td>\n",
       "      <td>...</td>\n",
       "      <td>...</td>\n",
       "      <td>...</td>\n",
       "    </tr>\n",
       "    <tr>\n",
       "      <th>130</th>\n",
       "      <td>49</td>\n",
       "      <td>11</td>\n",
       "      <td>44</td>\n",
       "      <td>Fifty_4C_29_c1.tif</td>\n",
       "      <td>Fifty_4C_29_c0.tif</td>\n",
       "      <td>50mg</td>\n",
       "      <td>131</td>\n",
       "      <td>22.448980</td>\n",
       "      <td>1920.265306</td>\n",
       "      <td>652.469388</td>\n",
       "      <td>...</td>\n",
       "      <td>7.705320</td>\n",
       "      <td>44.655312</td>\n",
       "      <td>45.319332</td>\n",
       "      <td>18.369071</td>\n",
       "      <td>184.788364</td>\n",
       "      <td>0.968213</td>\n",
       "      <td>782.198427</td>\n",
       "      <td>434.324176</td>\n",
       "      <td>0</td>\n",
       "      <td>18.272727</td>\n",
       "    </tr>\n",
       "    <tr>\n",
       "      <th>131</th>\n",
       "      <td>36</td>\n",
       "      <td>10</td>\n",
       "      <td>80</td>\n",
       "      <td>Fifty_4C_30_c1.tif</td>\n",
       "      <td>Fifty_4C_30_c0.tif</td>\n",
       "      <td>50mg</td>\n",
       "      <td>132</td>\n",
       "      <td>27.777778</td>\n",
       "      <td>2223.944444</td>\n",
       "      <td>619.972222</td>\n",
       "      <td>...</td>\n",
       "      <td>8.344922</td>\n",
       "      <td>47.478705</td>\n",
       "      <td>47.795371</td>\n",
       "      <td>-6.497001</td>\n",
       "      <td>212.888200</td>\n",
       "      <td>0.965750</td>\n",
       "      <td>730.377636</td>\n",
       "      <td>538.935312</td>\n",
       "      <td>0</td>\n",
       "      <td>17.700000</td>\n",
       "    </tr>\n",
       "    <tr>\n",
       "      <th>132</th>\n",
       "      <td>49</td>\n",
       "      <td>2</td>\n",
       "      <td>7</td>\n",
       "      <td>Fifty_4C_31_c1.tif</td>\n",
       "      <td>Fifty_4C_31_c0.tif</td>\n",
       "      <td>50mg</td>\n",
       "      <td>133</td>\n",
       "      <td>4.081633</td>\n",
       "      <td>1985.959184</td>\n",
       "      <td>595.897959</td>\n",
       "      <td>...</td>\n",
       "      <td>8.531129</td>\n",
       "      <td>52.334524</td>\n",
       "      <td>52.076598</td>\n",
       "      <td>-28.665248</td>\n",
       "      <td>209.878000</td>\n",
       "      <td>0.970461</td>\n",
       "      <td>802.584611</td>\n",
       "      <td>419.582401</td>\n",
       "      <td>0</td>\n",
       "      <td>16.000000</td>\n",
       "    </tr>\n",
       "    <tr>\n",
       "      <th>133</th>\n",
       "      <td>35</td>\n",
       "      <td>10</td>\n",
       "      <td>44</td>\n",
       "      <td>Fifty_4C_32_c1.tif</td>\n",
       "      <td>Fifty_4C_32_c0.tif</td>\n",
       "      <td>50mg</td>\n",
       "      <td>134</td>\n",
       "      <td>28.571429</td>\n",
       "      <td>2274.200000</td>\n",
       "      <td>649.314286</td>\n",
       "      <td>...</td>\n",
       "      <td>7.625256</td>\n",
       "      <td>43.619008</td>\n",
       "      <td>44.624948</td>\n",
       "      <td>17.859676</td>\n",
       "      <td>183.293400</td>\n",
       "      <td>0.971819</td>\n",
       "      <td>488.587647</td>\n",
       "      <td>508.099073</td>\n",
       "      <td>0</td>\n",
       "      <td>16.500000</td>\n",
       "    </tr>\n",
       "    <tr>\n",
       "      <th>134</th>\n",
       "      <td>49</td>\n",
       "      <td>14</td>\n",
       "      <td>53</td>\n",
       "      <td>Fifty_4C_33_c1.tif</td>\n",
       "      <td>Fifty_4C_33_c0.tif</td>\n",
       "      <td>50mg</td>\n",
       "      <td>135</td>\n",
       "      <td>28.571429</td>\n",
       "      <td>2048.469388</td>\n",
       "      <td>705.408163</td>\n",
       "      <td>...</td>\n",
       "      <td>7.678201</td>\n",
       "      <td>43.802818</td>\n",
       "      <td>44.542128</td>\n",
       "      <td>13.737275</td>\n",
       "      <td>190.161571</td>\n",
       "      <td>0.965834</td>\n",
       "      <td>660.967174</td>\n",
       "      <td>612.921957</td>\n",
       "      <td>0</td>\n",
       "      <td>27.857143</td>\n",
       "    </tr>\n",
       "  </tbody>\n",
       "</table>\n",
       "<p>135 rows × 136 columns</p>\n",
       "</div>"
      ],
      "text/plain": [
       "     Count_Nuclei  Count_RO_PositiveNuclei  Count_h2AX       FileName_DAPI  \\\n",
       "0              85                       20         130    CSE_5B_74_c1.tif   \n",
       "1              76                       19         149    CSE_5B_75_c1.tif   \n",
       "2              68                       17         179    CSE_5B_76_c1.tif   \n",
       "3              60                       18         146    CSE_5B_77_c1.tif   \n",
       "4              74                       21          90    CSE_5B_78_c1.tif   \n",
       "..            ...                      ...         ...                 ...   \n",
       "130            49                       11          44  Fifty_4C_29_c1.tif   \n",
       "131            36                       10          80  Fifty_4C_30_c1.tif   \n",
       "132            49                        2           7  Fifty_4C_31_c1.tif   \n",
       "133            35                       10          44  Fifty_4C_32_c1.tif   \n",
       "134            49                       14          53  Fifty_4C_33_c1.tif   \n",
       "\n",
       "         FileName_Green Group  ImageNumber  Math_PercentPositiveNuclei  \\\n",
       "0      CSE_5B_74_c0.tif   CSE            1                   23.529412   \n",
       "1      CSE_5B_75_c0.tif   CSE            2                   25.000000   \n",
       "2      CSE_5B_76_c0.tif   CSE            3                   25.000000   \n",
       "3      CSE_5B_77_c0.tif   CSE            4                   30.000000   \n",
       "4      CSE_5B_78_c0.tif   CSE            5                   28.378378   \n",
       "..                  ...   ...          ...                         ...   \n",
       "130  Fifty_4C_29_c0.tif  50mg          131                   22.448980   \n",
       "131  Fifty_4C_30_c0.tif  50mg          132                   27.777778   \n",
       "132  Fifty_4C_31_c0.tif  50mg          133                    4.081633   \n",
       "133  Fifty_4C_32_c0.tif  50mg          134                   28.571429   \n",
       "134  Fifty_4C_33_c0.tif  50mg          135                   28.571429   \n",
       "\n",
       "     Mean_Nuclei_AreaShape_Area  Mean_Nuclei_AreaShape_Center_X  ...  \\\n",
       "0                   2323.011765                      773.470588  ...   \n",
       "1                   2420.289474                      742.434211  ...   \n",
       "2                   2795.705882                      772.691176  ...   \n",
       "3                   2624.433333                      718.500000  ...   \n",
       "4                   2347.027027                      817.662162  ...   \n",
       "..                          ...                             ...  ...   \n",
       "130                 1920.265306                      652.469388  ...   \n",
       "131                 2223.944444                      619.972222  ...   \n",
       "132                 1985.959184                      595.897959  ...   \n",
       "133                 2274.200000                      649.314286  ...   \n",
       "134                 2048.469388                      705.408163  ...   \n",
       "\n",
       "     Mean_h2AX_Mean_Nuclei_AreaShape_MedianRadius  \\\n",
       "0                                        7.994622   \n",
       "1                                        8.079331   \n",
       "2                                        9.133352   \n",
       "3                                        8.081635   \n",
       "4                                        8.113037   \n",
       "..                                            ...   \n",
       "130                                      7.705320   \n",
       "131                                      8.344922   \n",
       "132                                      8.531129   \n",
       "133                                      7.625256   \n",
       "134                                      7.678201   \n",
       "\n",
       "     Mean_h2AX_Mean_Nuclei_AreaShape_MinFeretDiameter  \\\n",
       "0                                           46.824037   \n",
       "1                                           48.777488   \n",
       "2                                           49.771266   \n",
       "3                                           43.463653   \n",
       "4                                           47.134167   \n",
       "..                                                ...   \n",
       "130                                         44.655312   \n",
       "131                                         47.478705   \n",
       "132                                         52.334524   \n",
       "133                                         43.619008   \n",
       "134                                         43.802818   \n",
       "\n",
       "     Mean_h2AX_Mean_Nuclei_AreaShape_MinorAxisLength  \\\n",
       "0                                          46.940902   \n",
       "1                                          49.190027   \n",
       "2                                          50.581981   \n",
       "3                                          44.655614   \n",
       "4                                          47.348220   \n",
       "..                                               ...   \n",
       "130                                        45.319332   \n",
       "131                                        47.795371   \n",
       "132                                        52.076598   \n",
       "133                                        44.624948   \n",
       "134                                        44.542128   \n",
       "\n",
       "     Mean_h2AX_Mean_Nuclei_AreaShape_Orientation  \\\n",
       "0                                     -35.479833   \n",
       "1                                     -19.057108   \n",
       "2                                     -47.616923   \n",
       "3                                     -16.278801   \n",
       "4                                     -13.654593   \n",
       "..                                           ...   \n",
       "130                                    18.369071   \n",
       "131                                    -6.497001   \n",
       "132                                   -28.665248   \n",
       "133                                    17.859676   \n",
       "134                                    13.737275   \n",
       "\n",
       "     Mean_h2AX_Mean_Nuclei_AreaShape_Perimeter  \\\n",
       "0                                   212.269300   \n",
       "1                                   217.128632   \n",
       "2                                   229.399059   \n",
       "3                                   214.215222   \n",
       "4                                   211.370857   \n",
       "..                                         ...   \n",
       "130                                 184.788364   \n",
       "131                                 212.888200   \n",
       "132                                 209.878000   \n",
       "133                                 183.293400   \n",
       "134                                 190.161571   \n",
       "\n",
       "     Mean_h2AX_Mean_Nuclei_AreaShape_Solidity  \\\n",
       "0                                    0.955859   \n",
       "1                                    0.956019   \n",
       "2                                    0.970854   \n",
       "3                                    0.966192   \n",
       "4                                    0.956950   \n",
       "..                                        ...   \n",
       "130                                  0.968213   \n",
       "131                                  0.965750   \n",
       "132                                  0.970461   \n",
       "133                                  0.971819   \n",
       "134                                  0.965834   \n",
       "\n",
       "     Mean_h2AX_Mean_Nuclei_Location_Center_X  \\\n",
       "0                                 711.309374   \n",
       "1                                 866.491149   \n",
       "2                                 865.658359   \n",
       "3                                 758.001636   \n",
       "4                                 889.666950   \n",
       "..                                       ...   \n",
       "130                               782.198427   \n",
       "131                               730.377636   \n",
       "132                               802.584611   \n",
       "133                               488.587647   \n",
       "134                               660.967174   \n",
       "\n",
       "     Mean_h2AX_Mean_Nuclei_Location_Center_Y  \\\n",
       "0                                 532.216723   \n",
       "1                                 469.159900   \n",
       "2                                 547.649486   \n",
       "3                                 546.344099   \n",
       "4                                 397.935124   \n",
       "..                                       ...   \n",
       "130                               434.324176   \n",
       "131                               538.935312   \n",
       "132                               419.582401   \n",
       "133                               508.099073   \n",
       "134                               612.921957   \n",
       "\n",
       "     Mean_h2AX_Mean_Nuclei_Location_Center_Z  \\\n",
       "0                                          0   \n",
       "1                                          0   \n",
       "2                                          0   \n",
       "3                                          0   \n",
       "4                                          0   \n",
       "..                                       ...   \n",
       "130                                        0   \n",
       "131                                        0   \n",
       "132                                        0   \n",
       "133                                        0   \n",
       "134                                        0   \n",
       "\n",
       "     Mean_h2AX_Mean_Nuclei_Number_Object_Number  \n",
       "0                                     44.550000  \n",
       "1                                     34.421053  \n",
       "2                                     35.588235  \n",
       "3                                     28.277778  \n",
       "4                                     28.142857  \n",
       "..                                          ...  \n",
       "130                                   18.272727  \n",
       "131                                   17.700000  \n",
       "132                                   16.000000  \n",
       "133                                   16.500000  \n",
       "134                                   27.857143  \n",
       "\n",
       "[135 rows x 136 columns]"
      ]
     },
     "execution_count": 2,
     "metadata": {},
     "output_type": "execute_result"
    }
   ],
   "source": [
    " #read the csv file into a dataframe'\n",
    "df = pd.read_csv('JMpipelineV6_04220207Image.csv')\n",
    "df"
   ]
  },
  {
   "cell_type": "code",
   "execution_count": null,
   "metadata": {},
   "outputs": [],
   "source": []
  },
  {
   "cell_type": "code",
   "execution_count": 3,
   "metadata": {},
   "outputs": [
    {
     "data": {
      "text/plain": [
       "['Count_Nuclei',\n",
       " 'Count_RO_PositiveNuclei',\n",
       " 'Count_h2AX',\n",
       " 'FileName_DAPI',\n",
       " 'FileName_Green',\n",
       " 'Group',\n",
       " 'ImageNumber',\n",
       " 'Math_PercentPositiveNuclei',\n",
       " 'Mean_Nuclei_AreaShape_Area',\n",
       " 'Mean_Nuclei_AreaShape_Center_X',\n",
       " 'Mean_Nuclei_AreaShape_Center_Y',\n",
       " 'Mean_Nuclei_AreaShape_Center_Z',\n",
       " 'Mean_Nuclei_AreaShape_Compactness',\n",
       " 'Mean_Nuclei_AreaShape_Eccentricity',\n",
       " 'Mean_Nuclei_AreaShape_EulerNumber',\n",
       " 'Mean_Nuclei_AreaShape_Extent',\n",
       " 'Mean_Nuclei_AreaShape_FormFactor',\n",
       " 'Mean_Nuclei_AreaShape_MajorAxisLength',\n",
       " 'Mean_Nuclei_AreaShape_MaxFeretDiameter',\n",
       " 'Mean_Nuclei_AreaShape_MaximumRadius',\n",
       " 'Mean_Nuclei_AreaShape_MeanRadius',\n",
       " 'Mean_Nuclei_AreaShape_MedianRadius',\n",
       " 'Mean_Nuclei_AreaShape_MinFeretDiameter',\n",
       " 'Mean_Nuclei_AreaShape_MinorAxisLength',\n",
       " 'Mean_Nuclei_AreaShape_Orientation',\n",
       " 'Mean_Nuclei_AreaShape_Perimeter',\n",
       " 'Mean_Nuclei_AreaShape_Solidity',\n",
       " 'Mean_Nuclei_Children_RO_PositiveNuclei_Count',\n",
       " 'Mean_Nuclei_Intensity_IntegratedIntensityEdge_FilteredMaskedGreen',\n",
       " 'Mean_Nuclei_Intensity_IntegratedIntensity_FilteredMaskedGreen',\n",
       " 'Mean_Nuclei_Intensity_LowerQuartileIntensity_FilteredMaskedGreen',\n",
       " 'Mean_Nuclei_Intensity_MADIntensity_FilteredMaskedGreen',\n",
       " 'Mean_Nuclei_Intensity_MassDisplacement_FilteredMaskedGreen',\n",
       " 'Mean_Nuclei_Intensity_MaxIntensityEdge_FilteredMaskedGreen',\n",
       " 'Mean_Nuclei_Intensity_MaxIntensity_FilteredMaskedGreen',\n",
       " 'Mean_Nuclei_Intensity_MeanIntensityEdge_FilteredMaskedGreen',\n",
       " 'Mean_Nuclei_Intensity_MeanIntensity_FilteredMaskedGreen',\n",
       " 'Mean_Nuclei_Intensity_MedianIntensity_FilteredMaskedGreen',\n",
       " 'Mean_Nuclei_Intensity_MinIntensityEdge_FilteredMaskedGreen',\n",
       " 'Mean_Nuclei_Intensity_MinIntensity_FilteredMaskedGreen',\n",
       " 'Mean_Nuclei_Intensity_StdIntensityEdge_FilteredMaskedGreen',\n",
       " 'Mean_Nuclei_Intensity_StdIntensity_FilteredMaskedGreen',\n",
       " 'Mean_Nuclei_Intensity_UpperQuartileIntensity_FilteredMaskedGreen',\n",
       " 'Mean_Nuclei_Location_MaxIntensity_X_FilteredMaskedGreen',\n",
       " 'Mean_Nuclei_Location_MaxIntensity_Y_FilteredMaskedGreen',\n",
       " 'Mean_Nuclei_Location_MaxIntensity_Z_FilteredMaskedGreen',\n",
       " 'Mean_Nuclei_Math_BackgroundCorrection',\n",
       " 'Mean_Nuclei_Math_CTCF',\n",
       " 'Mean_Nuclei_Parent_h2AX',\n",
       " 'Mean_RO_PositiveNuclei_Intensity_IntegratedIntensityEdge_FilteredMaskedGreen',\n",
       " 'Mean_RO_PositiveNuclei_Intensity_IntegratedIntensity_FilteredMaskedGreen',\n",
       " 'Mean_RO_PositiveNuclei_Intensity_LowerQuartileIntensity_FilteredMaskedGreen',\n",
       " 'Mean_RO_PositiveNuclei_Intensity_MADIntensity_FilteredMaskedGreen',\n",
       " 'Mean_RO_PositiveNuclei_Intensity_MassDisplacement_FilteredMaskedGreen',\n",
       " 'Mean_RO_PositiveNuclei_Intensity_MaxIntensityEdge_FilteredMaskedGreen',\n",
       " 'Mean_RO_PositiveNuclei_Intensity_MaxIntensity_FilteredMaskedGreen',\n",
       " 'Mean_RO_PositiveNuclei_Intensity_MeanIntensityEdge_FilteredMaskedGreen',\n",
       " 'Mean_RO_PositiveNuclei_Intensity_MeanIntensity_FilteredMaskedGreen',\n",
       " 'Mean_RO_PositiveNuclei_Intensity_MedianIntensity_FilteredMaskedGreen',\n",
       " 'Mean_RO_PositiveNuclei_Intensity_MinIntensityEdge_FilteredMaskedGreen',\n",
       " 'Mean_RO_PositiveNuclei_Intensity_MinIntensity_FilteredMaskedGreen',\n",
       " 'Mean_RO_PositiveNuclei_Intensity_StdIntensityEdge_FilteredMaskedGreen',\n",
       " 'Mean_RO_PositiveNuclei_Intensity_StdIntensity_FilteredMaskedGreen',\n",
       " 'Mean_RO_PositiveNuclei_Intensity_UpperQuartileIntensity_FilteredMaskedGreen',\n",
       " 'Mean_RO_PositiveNuclei_Location_Center_X',\n",
       " 'Mean_RO_PositiveNuclei_Location_Center_Y',\n",
       " 'Mean_RO_PositiveNuclei_Location_Center_Z',\n",
       " 'Mean_RO_PositiveNuclei_Math_CTCF_posCells',\n",
       " 'Mean_RO_PositiveNuclei_Parent_Nuclei',\n",
       " 'Mean_h2AX_AreaShape_Area',\n",
       " 'Mean_h2AX_AreaShape_Center_X',\n",
       " 'Mean_h2AX_AreaShape_Center_Y',\n",
       " 'Mean_h2AX_AreaShape_Center_Z',\n",
       " 'Mean_h2AX_AreaShape_Compactness',\n",
       " 'Mean_h2AX_AreaShape_Eccentricity',\n",
       " 'Mean_h2AX_AreaShape_EulerNumber',\n",
       " 'Mean_h2AX_AreaShape_Extent',\n",
       " 'Mean_h2AX_AreaShape_FormFactor',\n",
       " 'Mean_h2AX_AreaShape_MajorAxisLength',\n",
       " 'Mean_h2AX_AreaShape_MaxFeretDiameter',\n",
       " 'Mean_h2AX_AreaShape_MaximumRadius',\n",
       " 'Mean_h2AX_AreaShape_MeanRadius',\n",
       " 'Mean_h2AX_AreaShape_MedianRadius',\n",
       " 'Mean_h2AX_AreaShape_MinFeretDiameter',\n",
       " 'Mean_h2AX_AreaShape_MinorAxisLength',\n",
       " 'Mean_h2AX_AreaShape_Orientation',\n",
       " 'Mean_h2AX_AreaShape_Perimeter',\n",
       " 'Mean_h2AX_AreaShape_Solidity',\n",
       " 'Mean_h2AX_Children_Nuclei_Count',\n",
       " 'Mean_h2AX_Intensity_IntegratedIntensityEdge_FilteredMaskedGreen',\n",
       " 'Mean_h2AX_Intensity_IntegratedIntensity_FilteredMaskedGreen',\n",
       " 'Mean_h2AX_Intensity_LowerQuartileIntensity_FilteredMaskedGreen',\n",
       " 'Mean_h2AX_Intensity_MADIntensity_FilteredMaskedGreen',\n",
       " 'Mean_h2AX_Intensity_MassDisplacement_FilteredMaskedGreen',\n",
       " 'Mean_h2AX_Intensity_MaxIntensityEdge_FilteredMaskedGreen',\n",
       " 'Mean_h2AX_Intensity_MaxIntensity_FilteredMaskedGreen',\n",
       " 'Mean_h2AX_Intensity_MeanIntensityEdge_FilteredMaskedGreen',\n",
       " 'Mean_h2AX_Intensity_MeanIntensity_FilteredMaskedGreen',\n",
       " 'Mean_h2AX_Intensity_MedianIntensity_FilteredMaskedGreen',\n",
       " 'Mean_h2AX_Intensity_MinIntensityEdge_FilteredMaskedGreen',\n",
       " 'Mean_h2AX_Intensity_MinIntensity_FilteredMaskedGreen',\n",
       " 'Mean_h2AX_Intensity_StdIntensityEdge_FilteredMaskedGreen',\n",
       " 'Mean_h2AX_Intensity_StdIntensity_FilteredMaskedGreen',\n",
       " 'Mean_h2AX_Intensity_UpperQuartileIntensity_FilteredMaskedGreen',\n",
       " 'Mean_h2AX_Location_CenterMassIntensity_X_FilteredMaskedGreen',\n",
       " 'Mean_h2AX_Location_CenterMassIntensity_Y_FilteredMaskedGreen',\n",
       " 'Mean_h2AX_Location_CenterMassIntensity_Z_FilteredMaskedGreen',\n",
       " 'Mean_h2AX_Location_Center_X',\n",
       " 'Mean_h2AX_Location_Center_Y',\n",
       " 'Mean_h2AX_Location_Center_Z',\n",
       " 'Mean_h2AX_Location_MaxIntensity_X_FilteredMaskedGreen',\n",
       " 'Mean_h2AX_Location_MaxIntensity_Y_FilteredMaskedGreen',\n",
       " 'Mean_h2AX_Location_MaxIntensity_Z_FilteredMaskedGreen',\n",
       " 'Mean_h2AX_Mean_Nuclei_AreaShape_Area',\n",
       " 'Mean_h2AX_Mean_Nuclei_AreaShape_Center_X',\n",
       " 'Mean_h2AX_Mean_Nuclei_AreaShape_Center_Y',\n",
       " 'Mean_h2AX_Mean_Nuclei_AreaShape_Center_Z',\n",
       " 'Mean_h2AX_Mean_Nuclei_AreaShape_Compactness',\n",
       " 'Mean_h2AX_Mean_Nuclei_AreaShape_Eccentricity',\n",
       " 'Mean_h2AX_Mean_Nuclei_AreaShape_EulerNumber',\n",
       " 'Mean_h2AX_Mean_Nuclei_AreaShape_Extent',\n",
       " 'Mean_h2AX_Mean_Nuclei_AreaShape_FormFactor',\n",
       " 'Mean_h2AX_Mean_Nuclei_AreaShape_MajorAxisLength',\n",
       " 'Mean_h2AX_Mean_Nuclei_AreaShape_MaxFeretDiameter',\n",
       " 'Mean_h2AX_Mean_Nuclei_AreaShape_MaximumRadius',\n",
       " 'Mean_h2AX_Mean_Nuclei_AreaShape_MeanRadius',\n",
       " 'Mean_h2AX_Mean_Nuclei_AreaShape_MedianRadius',\n",
       " 'Mean_h2AX_Mean_Nuclei_AreaShape_MinFeretDiameter',\n",
       " 'Mean_h2AX_Mean_Nuclei_AreaShape_MinorAxisLength',\n",
       " 'Mean_h2AX_Mean_Nuclei_AreaShape_Orientation',\n",
       " 'Mean_h2AX_Mean_Nuclei_AreaShape_Perimeter',\n",
       " 'Mean_h2AX_Mean_Nuclei_AreaShape_Solidity',\n",
       " 'Mean_h2AX_Mean_Nuclei_Location_Center_X',\n",
       " 'Mean_h2AX_Mean_Nuclei_Location_Center_Y',\n",
       " 'Mean_h2AX_Mean_Nuclei_Location_Center_Z',\n",
       " 'Mean_h2AX_Mean_Nuclei_Number_Object_Number']"
      ]
     },
     "execution_count": 3,
     "metadata": {},
     "output_type": "execute_result"
    }
   ],
   "source": [
    "list(df.columns)"
   ]
  },
  {
   "cell_type": "code",
   "execution_count": 4,
   "metadata": {
    "scrolled": true
   },
   "outputs": [
    {
     "data": {
      "text/html": [
       "<div>\n",
       "<style scoped>\n",
       "    .dataframe tbody tr th:only-of-type {\n",
       "        vertical-align: middle;\n",
       "    }\n",
       "\n",
       "    .dataframe tbody tr th {\n",
       "        vertical-align: top;\n",
       "    }\n",
       "\n",
       "    .dataframe thead th {\n",
       "        text-align: right;\n",
       "    }\n",
       "</style>\n",
       "<table border=\"1\" class=\"dataframe\">\n",
       "  <thead>\n",
       "    <tr style=\"text-align: right;\">\n",
       "      <th></th>\n",
       "      <th>Count_Nuclei</th>\n",
       "      <th>Count_RO_PositiveNuclei</th>\n",
       "      <th>Count_h2AX</th>\n",
       "      <th>ImageNumber</th>\n",
       "      <th>Math_PercentPositiveNuclei</th>\n",
       "      <th>Mean_Nuclei_AreaShape_Area</th>\n",
       "      <th>Mean_Nuclei_AreaShape_Center_X</th>\n",
       "      <th>Mean_Nuclei_AreaShape_Center_Y</th>\n",
       "      <th>Mean_Nuclei_AreaShape_Center_Z</th>\n",
       "      <th>Mean_Nuclei_AreaShape_Compactness</th>\n",
       "      <th>...</th>\n",
       "      <th>Mean_h2AX_Mean_Nuclei_AreaShape_MedianRadius</th>\n",
       "      <th>Mean_h2AX_Mean_Nuclei_AreaShape_MinFeretDiameter</th>\n",
       "      <th>Mean_h2AX_Mean_Nuclei_AreaShape_MinorAxisLength</th>\n",
       "      <th>Mean_h2AX_Mean_Nuclei_AreaShape_Orientation</th>\n",
       "      <th>Mean_h2AX_Mean_Nuclei_AreaShape_Perimeter</th>\n",
       "      <th>Mean_h2AX_Mean_Nuclei_AreaShape_Solidity</th>\n",
       "      <th>Mean_h2AX_Mean_Nuclei_Location_Center_X</th>\n",
       "      <th>Mean_h2AX_Mean_Nuclei_Location_Center_Y</th>\n",
       "      <th>Mean_h2AX_Mean_Nuclei_Location_Center_Z</th>\n",
       "      <th>Mean_h2AX_Mean_Nuclei_Number_Object_Number</th>\n",
       "    </tr>\n",
       "  </thead>\n",
       "  <tbody>\n",
       "    <tr>\n",
       "      <th>count</th>\n",
       "      <td>135.000000</td>\n",
       "      <td>135.000000</td>\n",
       "      <td>135.000000</td>\n",
       "      <td>135.000000</td>\n",
       "      <td>135.000000</td>\n",
       "      <td>135.000000</td>\n",
       "      <td>135.000000</td>\n",
       "      <td>135.000000</td>\n",
       "      <td>135.0</td>\n",
       "      <td>135.000000</td>\n",
       "      <td>...</td>\n",
       "      <td>135.000000</td>\n",
       "      <td>135.000000</td>\n",
       "      <td>135.000000</td>\n",
       "      <td>135.000000</td>\n",
       "      <td>135.000000</td>\n",
       "      <td>135.000000</td>\n",
       "      <td>135.000000</td>\n",
       "      <td>135.000000</td>\n",
       "      <td>135.0</td>\n",
       "      <td>135.000000</td>\n",
       "    </tr>\n",
       "    <tr>\n",
       "      <th>mean</th>\n",
       "      <td>58.185185</td>\n",
       "      <td>17.637037</td>\n",
       "      <td>109.400000</td>\n",
       "      <td>68.000000</td>\n",
       "      <td>33.669770</td>\n",
       "      <td>2146.439717</td>\n",
       "      <td>692.849151</td>\n",
       "      <td>515.577495</td>\n",
       "      <td>1.0</td>\n",
       "      <td>1.151498</td>\n",
       "      <td>...</td>\n",
       "      <td>7.630570</td>\n",
       "      <td>43.423137</td>\n",
       "      <td>44.031771</td>\n",
       "      <td>1.722162</td>\n",
       "      <td>193.758381</td>\n",
       "      <td>0.963424</td>\n",
       "      <td>695.243754</td>\n",
       "      <td>510.847763</td>\n",
       "      <td>0.0</td>\n",
       "      <td>29.390409</td>\n",
       "    </tr>\n",
       "    <tr>\n",
       "      <th>std</th>\n",
       "      <td>23.301139</td>\n",
       "      <td>7.966916</td>\n",
       "      <td>85.759052</td>\n",
       "      <td>39.115214</td>\n",
       "      <td>18.026920</td>\n",
       "      <td>243.594625</td>\n",
       "      <td>65.375966</td>\n",
       "      <td>51.330000</td>\n",
       "      <td>0.0</td>\n",
       "      <td>0.035505</td>\n",
       "      <td>...</td>\n",
       "      <td>0.627229</td>\n",
       "      <td>4.203696</td>\n",
       "      <td>4.076583</td>\n",
       "      <td>20.477219</td>\n",
       "      <td>17.017448</td>\n",
       "      <td>0.007849</td>\n",
       "      <td>118.520383</td>\n",
       "      <td>73.665695</td>\n",
       "      <td>0.0</td>\n",
       "      <td>12.225614</td>\n",
       "    </tr>\n",
       "    <tr>\n",
       "      <th>min</th>\n",
       "      <td>22.000000</td>\n",
       "      <td>2.000000</td>\n",
       "      <td>7.000000</td>\n",
       "      <td>1.000000</td>\n",
       "      <td>4.081633</td>\n",
       "      <td>1522.585366</td>\n",
       "      <td>505.468085</td>\n",
       "      <td>324.480000</td>\n",
       "      <td>1.0</td>\n",
       "      <td>1.094501</td>\n",
       "      <td>...</td>\n",
       "      <td>6.109433</td>\n",
       "      <td>33.189039</td>\n",
       "      <td>34.300300</td>\n",
       "      <td>-47.616923</td>\n",
       "      <td>152.489714</td>\n",
       "      <td>0.933595</td>\n",
       "      <td>163.494934</td>\n",
       "      <td>321.358701</td>\n",
       "      <td>0.0</td>\n",
       "      <td>9.000000</td>\n",
       "    </tr>\n",
       "    <tr>\n",
       "      <th>25%</th>\n",
       "      <td>41.000000</td>\n",
       "      <td>12.000000</td>\n",
       "      <td>43.500000</td>\n",
       "      <td>34.500000</td>\n",
       "      <td>22.641509</td>\n",
       "      <td>1971.258584</td>\n",
       "      <td>650.547812</td>\n",
       "      <td>486.637500</td>\n",
       "      <td>1.0</td>\n",
       "      <td>1.122589</td>\n",
       "      <td>...</td>\n",
       "      <td>7.180437</td>\n",
       "      <td>40.294800</td>\n",
       "      <td>40.918944</td>\n",
       "      <td>-12.996080</td>\n",
       "      <td>181.711025</td>\n",
       "      <td>0.961416</td>\n",
       "      <td>617.684331</td>\n",
       "      <td>460.411581</td>\n",
       "      <td>0.0</td>\n",
       "      <td>20.000000</td>\n",
       "    </tr>\n",
       "    <tr>\n",
       "      <th>50%</th>\n",
       "      <td>53.000000</td>\n",
       "      <td>16.000000</td>\n",
       "      <td>78.000000</td>\n",
       "      <td>68.000000</td>\n",
       "      <td>29.787234</td>\n",
       "      <td>2126.654545</td>\n",
       "      <td>701.727273</td>\n",
       "      <td>516.600000</td>\n",
       "      <td>1.0</td>\n",
       "      <td>1.148965</td>\n",
       "      <td>...</td>\n",
       "      <td>7.595276</td>\n",
       "      <td>43.463653</td>\n",
       "      <td>43.927696</td>\n",
       "      <td>1.927556</td>\n",
       "      <td>192.005059</td>\n",
       "      <td>0.965063</td>\n",
       "      <td>702.606860</td>\n",
       "      <td>520.226359</td>\n",
       "      <td>0.0</td>\n",
       "      <td>25.923077</td>\n",
       "    </tr>\n",
       "    <tr>\n",
       "      <th>75%</th>\n",
       "      <td>76.000000</td>\n",
       "      <td>21.000000</td>\n",
       "      <td>149.000000</td>\n",
       "      <td>101.500000</td>\n",
       "      <td>38.827751</td>\n",
       "      <td>2316.862500</td>\n",
       "      <td>737.798165</td>\n",
       "      <td>546.996112</td>\n",
       "      <td>1.0</td>\n",
       "      <td>1.172592</td>\n",
       "      <td>...</td>\n",
       "      <td>8.085672</td>\n",
       "      <td>46.601643</td>\n",
       "      <td>47.111461</td>\n",
       "      <td>16.507344</td>\n",
       "      <td>206.798394</td>\n",
       "      <td>0.968557</td>\n",
       "      <td>774.620221</td>\n",
       "      <td>561.035493</td>\n",
       "      <td>0.0</td>\n",
       "      <td>37.718750</td>\n",
       "    </tr>\n",
       "    <tr>\n",
       "      <th>max</th>\n",
       "      <td>120.000000</td>\n",
       "      <td>56.000000</td>\n",
       "      <td>417.000000</td>\n",
       "      <td>135.000000</td>\n",
       "      <td>84.210526</td>\n",
       "      <td>2795.705882</td>\n",
       "      <td>872.609375</td>\n",
       "      <td>645.887097</td>\n",
       "      <td>1.0</td>\n",
       "      <td>1.295375</td>\n",
       "      <td>...</td>\n",
       "      <td>9.133352</td>\n",
       "      <td>52.911947</td>\n",
       "      <td>53.141325</td>\n",
       "      <td>55.292892</td>\n",
       "      <td>239.990235</td>\n",
       "      <td>0.974355</td>\n",
       "      <td>921.364053</td>\n",
       "      <td>722.047978</td>\n",
       "      <td>0.0</td>\n",
       "      <td>60.700000</td>\n",
       "    </tr>\n",
       "  </tbody>\n",
       "</table>\n",
       "<p>8 rows × 133 columns</p>\n",
       "</div>"
      ],
      "text/plain": [
       "       Count_Nuclei  Count_RO_PositiveNuclei  Count_h2AX  ImageNumber  \\\n",
       "count    135.000000               135.000000  135.000000   135.000000   \n",
       "mean      58.185185                17.637037  109.400000    68.000000   \n",
       "std       23.301139                 7.966916   85.759052    39.115214   \n",
       "min       22.000000                 2.000000    7.000000     1.000000   \n",
       "25%       41.000000                12.000000   43.500000    34.500000   \n",
       "50%       53.000000                16.000000   78.000000    68.000000   \n",
       "75%       76.000000                21.000000  149.000000   101.500000   \n",
       "max      120.000000                56.000000  417.000000   135.000000   \n",
       "\n",
       "       Math_PercentPositiveNuclei  Mean_Nuclei_AreaShape_Area  \\\n",
       "count                  135.000000                  135.000000   \n",
       "mean                    33.669770                 2146.439717   \n",
       "std                     18.026920                  243.594625   \n",
       "min                      4.081633                 1522.585366   \n",
       "25%                     22.641509                 1971.258584   \n",
       "50%                     29.787234                 2126.654545   \n",
       "75%                     38.827751                 2316.862500   \n",
       "max                     84.210526                 2795.705882   \n",
       "\n",
       "       Mean_Nuclei_AreaShape_Center_X  Mean_Nuclei_AreaShape_Center_Y  \\\n",
       "count                      135.000000                      135.000000   \n",
       "mean                       692.849151                      515.577495   \n",
       "std                         65.375966                       51.330000   \n",
       "min                        505.468085                      324.480000   \n",
       "25%                        650.547812                      486.637500   \n",
       "50%                        701.727273                      516.600000   \n",
       "75%                        737.798165                      546.996112   \n",
       "max                        872.609375                      645.887097   \n",
       "\n",
       "       Mean_Nuclei_AreaShape_Center_Z  Mean_Nuclei_AreaShape_Compactness  ...  \\\n",
       "count                           135.0                         135.000000  ...   \n",
       "mean                              1.0                           1.151498  ...   \n",
       "std                               0.0                           0.035505  ...   \n",
       "min                               1.0                           1.094501  ...   \n",
       "25%                               1.0                           1.122589  ...   \n",
       "50%                               1.0                           1.148965  ...   \n",
       "75%                               1.0                           1.172592  ...   \n",
       "max                               1.0                           1.295375  ...   \n",
       "\n",
       "       Mean_h2AX_Mean_Nuclei_AreaShape_MedianRadius  \\\n",
       "count                                    135.000000   \n",
       "mean                                       7.630570   \n",
       "std                                        0.627229   \n",
       "min                                        6.109433   \n",
       "25%                                        7.180437   \n",
       "50%                                        7.595276   \n",
       "75%                                        8.085672   \n",
       "max                                        9.133352   \n",
       "\n",
       "       Mean_h2AX_Mean_Nuclei_AreaShape_MinFeretDiameter  \\\n",
       "count                                        135.000000   \n",
       "mean                                          43.423137   \n",
       "std                                            4.203696   \n",
       "min                                           33.189039   \n",
       "25%                                           40.294800   \n",
       "50%                                           43.463653   \n",
       "75%                                           46.601643   \n",
       "max                                           52.911947   \n",
       "\n",
       "       Mean_h2AX_Mean_Nuclei_AreaShape_MinorAxisLength  \\\n",
       "count                                       135.000000   \n",
       "mean                                         44.031771   \n",
       "std                                           4.076583   \n",
       "min                                          34.300300   \n",
       "25%                                          40.918944   \n",
       "50%                                          43.927696   \n",
       "75%                                          47.111461   \n",
       "max                                          53.141325   \n",
       "\n",
       "       Mean_h2AX_Mean_Nuclei_AreaShape_Orientation  \\\n",
       "count                                   135.000000   \n",
       "mean                                      1.722162   \n",
       "std                                      20.477219   \n",
       "min                                     -47.616923   \n",
       "25%                                     -12.996080   \n",
       "50%                                       1.927556   \n",
       "75%                                      16.507344   \n",
       "max                                      55.292892   \n",
       "\n",
       "       Mean_h2AX_Mean_Nuclei_AreaShape_Perimeter  \\\n",
       "count                                 135.000000   \n",
       "mean                                  193.758381   \n",
       "std                                    17.017448   \n",
       "min                                   152.489714   \n",
       "25%                                   181.711025   \n",
       "50%                                   192.005059   \n",
       "75%                                   206.798394   \n",
       "max                                   239.990235   \n",
       "\n",
       "       Mean_h2AX_Mean_Nuclei_AreaShape_Solidity  \\\n",
       "count                                135.000000   \n",
       "mean                                   0.963424   \n",
       "std                                    0.007849   \n",
       "min                                    0.933595   \n",
       "25%                                    0.961416   \n",
       "50%                                    0.965063   \n",
       "75%                                    0.968557   \n",
       "max                                    0.974355   \n",
       "\n",
       "       Mean_h2AX_Mean_Nuclei_Location_Center_X  \\\n",
       "count                               135.000000   \n",
       "mean                                695.243754   \n",
       "std                                 118.520383   \n",
       "min                                 163.494934   \n",
       "25%                                 617.684331   \n",
       "50%                                 702.606860   \n",
       "75%                                 774.620221   \n",
       "max                                 921.364053   \n",
       "\n",
       "       Mean_h2AX_Mean_Nuclei_Location_Center_Y  \\\n",
       "count                               135.000000   \n",
       "mean                                510.847763   \n",
       "std                                  73.665695   \n",
       "min                                 321.358701   \n",
       "25%                                 460.411581   \n",
       "50%                                 520.226359   \n",
       "75%                                 561.035493   \n",
       "max                                 722.047978   \n",
       "\n",
       "       Mean_h2AX_Mean_Nuclei_Location_Center_Z  \\\n",
       "count                                    135.0   \n",
       "mean                                       0.0   \n",
       "std                                        0.0   \n",
       "min                                        0.0   \n",
       "25%                                        0.0   \n",
       "50%                                        0.0   \n",
       "75%                                        0.0   \n",
       "max                                        0.0   \n",
       "\n",
       "       Mean_h2AX_Mean_Nuclei_Number_Object_Number  \n",
       "count                                  135.000000  \n",
       "mean                                    29.390409  \n",
       "std                                     12.225614  \n",
       "min                                      9.000000  \n",
       "25%                                     20.000000  \n",
       "50%                                     25.923077  \n",
       "75%                                     37.718750  \n",
       "max                                     60.700000  \n",
       "\n",
       "[8 rows x 133 columns]"
      ]
     },
     "execution_count": 4,
     "metadata": {},
     "output_type": "execute_result"
    }
   ],
   "source": [
    "df.describe()"
   ]
  },
  {
   "cell_type": "code",
   "execution_count": null,
   "metadata": {},
   "outputs": [],
   "source": []
  },
  {
   "cell_type": "markdown",
   "metadata": {},
   "source": [
    "# Check if the number of nuclei and foci are within normal limits"
   ]
  },
  {
   "cell_type": "code",
   "execution_count": 5,
   "metadata": {},
   "outputs": [
    {
     "data": {
      "image/png": "[encoded data removed]",
      "text/plain": [
       "<Figure size 432x288 with 1 Axes>"
      ]
     },
     "metadata": {
      "needs_background": "light"
     },
     "output_type": "display_data"
    }
   ],
   "source": [
    "import warnings\n",
    "warnings.filterwarnings('ignore')\n",
    "\n",
    "fig, ax = plt.subplots()\n",
    "nuclei_count_bxplt = df.loc[(df.Count_Nuclei.notnull()) ,'Count_Nuclei']\n",
    "h2ax_count_bxplt = df.loc[(df.Count_h2AX.notnull()),'Count_h2AX']\n",
    "ax.boxplot([nuclei_count_bxplt, h2ax_count_bxplt])\n",
    "ax.set(xticklabels=['Nuclei', 'H2AX Foci'], title=\"Numbers of Objects\")\n",
    "plt.show()"
   ]
  },
  {
   "cell_type": "code",
   "execution_count": 6,
   "metadata": {},
   "outputs": [],
   "source": [
    "#groups\n",
    "df_groups = df.groupby('Group')\n",
    "\n",
    "df_controls = df_groups.get_group('Control')\n",
    "df_PGVG = df_groups.get_group('PGVG')\n",
    "df_Nic1 = df_groups.get_group('12.5mg')\n",
    "df_Nic2 = df_groups.get_group('25mg')\n",
    "df_Nic3 = df_groups.get_group('50mg')\n",
    "df_CSE = df_groups.get_group('CSE')"
   ]
  },
  {
   "cell_type": "code",
   "execution_count": 7,
   "metadata": {},
   "outputs": [
    {
     "data": {
      "image/png": "[encoded data removed]",
      "text/plain": [
       "<Figure size 432x288 with 1 Axes>"
      ]
     },
     "metadata": {
      "needs_background": "light"
     },
     "output_type": "display_data"
    }
   ],
   "source": [
    "import warnings\n",
    "warnings.filterwarnings('ignore')\n",
    "\n",
    "fig, ax = plt.subplots()\n",
    "control_nuclei_count_bxplt = df_controls.loc[(df_controls.Count_Nuclei.notnull()) ,'Count_Nuclei']\n",
    "PGVG_nuclei_count_bxplt = df_PGVG.loc[(df_PGVG.Count_Nuclei.notnull()) ,'Count_Nuclei']\n",
    "Nic1_nuclei_count_bxplt = df_Nic1.loc[(df_Nic1.Count_Nuclei.notnull()) ,'Count_Nuclei']\n",
    "Nic2_nuclei_count_bxplt = df_Nic2.loc[(df_Nic2.Count_Nuclei.notnull())  ,'Count_Nuclei']\n",
    "Nic3_nuclei_count_bxplt = df_Nic3.loc[(df_Nic3.Count_Nuclei.notnull())  ,'Count_Nuclei']\n",
    "CSE_nuclei_count_bxplt = df_CSE.loc[(df_CSE.Count_Nuclei.notnull())  ,'Count_Nuclei']\n",
    "ax.boxplot([control_nuclei_count_bxplt, PGVG_nuclei_count_bxplt, Nic1_nuclei_count_bxplt, Nic2_nuclei_count_bxplt, Nic3_nuclei_count_bxplt, CSE_nuclei_count_bxplt])\n",
    "ax.set(xticklabels = ['Control', 'PGVG', '12.5mg', '25mg', '50mg', 'CSE'], title=\"Count_Nuclei\")\n",
    "plt.show()"
   ]
  },
  {
   "cell_type": "code",
   "execution_count": 8,
   "metadata": {},
   "outputs": [
    {
     "data": {
      "image/png": "[encoded data removed]",
      "text/plain": [
       "<Figure size 432x288 with 1 Axes>"
      ]
     },
     "metadata": {
      "needs_background": "light"
     },
     "output_type": "display_data"
    }
   ],
   "source": [
    "import warnings\n",
    "warnings.filterwarnings('ignore')\n",
    "\n",
    "fig, ax = plt.subplots()\n",
    "control_nuclei_count_bxplt = df_controls.loc[(df_controls.Count_h2AX.notnull()) ,'Count_h2AX']\n",
    "PGVG_nuclei_count_bxplt = df_PGVG.loc[(df_PGVG.Count_h2AX.notnull()) ,'Count_h2AX']\n",
    "Nic1_nuclei_count_bxplt = df_Nic1.loc[(df_Nic1.Count_h2AX.notnull()) ,'Count_h2AX']\n",
    "Nic2_nuclei_count_bxplt = df_Nic2.loc[(df_Nic2.Count_h2AX.notnull())  ,'Count_h2AX']\n",
    "Nic3_nuclei_count_bxplt = df_Nic3.loc[(df_Nic3.Count_h2AX.notnull())  ,'Count_h2AX']\n",
    "CSE_nuclei_count_bxplt = df_CSE.loc[(df_CSE.Count_h2AX.notnull())  ,'Count_h2AX']\n",
    "ax.boxplot([control_nuclei_count_bxplt, PGVG_nuclei_count_bxplt, Nic1_nuclei_count_bxplt, Nic2_nuclei_count_bxplt, Nic3_nuclei_count_bxplt, CSE_nuclei_count_bxplt])\n",
    "ax.set(xticklabels = ['Control', 'PGVG', '12.5mg', '25mg', '50mg', 'CSE'], title=\"Count_h2AX\")\n",
    "plt.show()"
   ]
  },
  {
   "cell_type": "markdown",
   "metadata": {},
   "source": [
    "Looks like there might be one major outlier in both"
   ]
  },
  {
   "cell_type": "markdown",
   "metadata": {},
   "source": [
    "# Make new features"
   ]
  },
  {
   "cell_type": "code",
   "execution_count": 9,
   "metadata": {},
   "outputs": [],
   "source": [
    "df['PercentPosNuc'] = df['Count_RO_PositiveNuclei'] / df['Count_Nuclei']\n",
    "\n",
    "df['Foci_nuc_ratio'] = df['Count_h2AX'] / df['Count_Nuclei']\n",
    "\n"
   ]
  },
  {
   "cell_type": "code",
   "execution_count": null,
   "metadata": {},
   "outputs": [],
   "source": []
  },
  {
   "cell_type": "markdown",
   "metadata": {},
   "source": [
    "# Make Groups"
   ]
  },
  {
   "cell_type": "code",
   "execution_count": 10,
   "metadata": {},
   "outputs": [],
   "source": [
    "df_groups = df.groupby('Group')"
   ]
  },
  {
   "cell_type": "code",
   "execution_count": 11,
   "metadata": {
    "scrolled": true
   },
   "outputs": [
    {
     "data": {
      "text/html": [
       "<div>\n",
       "<style scoped>\n",
       "    .dataframe tbody tr th:only-of-type {\n",
       "        vertical-align: middle;\n",
       "    }\n",
       "\n",
       "    .dataframe tbody tr th {\n",
       "        vertical-align: top;\n",
       "    }\n",
       "\n",
       "    .dataframe thead th {\n",
       "        text-align: right;\n",
       "    }\n",
       "</style>\n",
       "<table border=\"1\" class=\"dataframe\">\n",
       "  <thead>\n",
       "    <tr style=\"text-align: right;\">\n",
       "      <th></th>\n",
       "      <th>Count_Nuclei</th>\n",
       "      <th>Count_RO_PositiveNuclei</th>\n",
       "      <th>Count_h2AX</th>\n",
       "      <th>FileName_DAPI</th>\n",
       "      <th>FileName_Green</th>\n",
       "      <th>Group</th>\n",
       "      <th>ImageNumber</th>\n",
       "      <th>Math_PercentPositiveNuclei</th>\n",
       "      <th>Mean_Nuclei_AreaShape_Area</th>\n",
       "      <th>Mean_Nuclei_AreaShape_Center_X</th>\n",
       "      <th>...</th>\n",
       "      <th>Mean_h2AX_Mean_Nuclei_AreaShape_MinorAxisLength</th>\n",
       "      <th>Mean_h2AX_Mean_Nuclei_AreaShape_Orientation</th>\n",
       "      <th>Mean_h2AX_Mean_Nuclei_AreaShape_Perimeter</th>\n",
       "      <th>Mean_h2AX_Mean_Nuclei_AreaShape_Solidity</th>\n",
       "      <th>Mean_h2AX_Mean_Nuclei_Location_Center_X</th>\n",
       "      <th>Mean_h2AX_Mean_Nuclei_Location_Center_Y</th>\n",
       "      <th>Mean_h2AX_Mean_Nuclei_Location_Center_Z</th>\n",
       "      <th>Mean_h2AX_Mean_Nuclei_Number_Object_Number</th>\n",
       "      <th>PercentPosNuc</th>\n",
       "      <th>Foci_nuc_ratio</th>\n",
       "    </tr>\n",
       "  </thead>\n",
       "  <tbody>\n",
       "    <tr>\n",
       "      <th>26</th>\n",
       "      <td>40</td>\n",
       "      <td>11</td>\n",
       "      <td>70</td>\n",
       "      <td>Control_6C_51_c1.tif</td>\n",
       "      <td>Control_6C_51_c0.tif</td>\n",
       "      <td>Control</td>\n",
       "      <td>27</td>\n",
       "      <td>27.500000</td>\n",
       "      <td>2537.675000</td>\n",
       "      <td>713.550000</td>\n",
       "      <td>...</td>\n",
       "      <td>50.276559</td>\n",
       "      <td>0.242227</td>\n",
       "      <td>212.363818</td>\n",
       "      <td>0.974355</td>\n",
       "      <td>679.303899</td>\n",
       "      <td>477.036519</td>\n",
       "      <td>0</td>\n",
       "      <td>18.818182</td>\n",
       "      <td>0.275000</td>\n",
       "      <td>1.750000</td>\n",
       "    </tr>\n",
       "    <tr>\n",
       "      <th>27</th>\n",
       "      <td>68</td>\n",
       "      <td>21</td>\n",
       "      <td>134</td>\n",
       "      <td>Control_6C_52_c1.tif</td>\n",
       "      <td>Control_6C_52_c0.tif</td>\n",
       "      <td>Control</td>\n",
       "      <td>28</td>\n",
       "      <td>30.882353</td>\n",
       "      <td>2126.000000</td>\n",
       "      <td>584.352941</td>\n",
       "      <td>...</td>\n",
       "      <td>49.682507</td>\n",
       "      <td>14.882831</td>\n",
       "      <td>203.077905</td>\n",
       "      <td>0.964558</td>\n",
       "      <td>617.482228</td>\n",
       "      <td>444.457566</td>\n",
       "      <td>0</td>\n",
       "      <td>34.952381</td>\n",
       "      <td>0.308824</td>\n",
       "      <td>1.970588</td>\n",
       "    </tr>\n",
       "    <tr>\n",
       "      <th>28</th>\n",
       "      <td>55</td>\n",
       "      <td>23</td>\n",
       "      <td>220</td>\n",
       "      <td>Control_6C_53_c1.tif</td>\n",
       "      <td>Control_6C_53_c0.tif</td>\n",
       "      <td>Control</td>\n",
       "      <td>29</td>\n",
       "      <td>41.818182</td>\n",
       "      <td>2171.436364</td>\n",
       "      <td>739.909091</td>\n",
       "      <td>...</td>\n",
       "      <td>44.324251</td>\n",
       "      <td>19.282458</td>\n",
       "      <td>193.348870</td>\n",
       "      <td>0.964099</td>\n",
       "      <td>821.585918</td>\n",
       "      <td>473.335264</td>\n",
       "      <td>0</td>\n",
       "      <td>24.956522</td>\n",
       "      <td>0.418182</td>\n",
       "      <td>4.000000</td>\n",
       "    </tr>\n",
       "    <tr>\n",
       "      <th>29</th>\n",
       "      <td>58</td>\n",
       "      <td>22</td>\n",
       "      <td>149</td>\n",
       "      <td>Control_6C_54_c1.tif</td>\n",
       "      <td>Control_6C_54_c0.tif</td>\n",
       "      <td>Control</td>\n",
       "      <td>30</td>\n",
       "      <td>37.931034</td>\n",
       "      <td>2011.655172</td>\n",
       "      <td>685.706897</td>\n",
       "      <td>...</td>\n",
       "      <td>45.821882</td>\n",
       "      <td>5.538021</td>\n",
       "      <td>190.540546</td>\n",
       "      <td>0.968580</td>\n",
       "      <td>656.616484</td>\n",
       "      <td>528.342570</td>\n",
       "      <td>0</td>\n",
       "      <td>29.272727</td>\n",
       "      <td>0.379310</td>\n",
       "      <td>2.568966</td>\n",
       "    </tr>\n",
       "    <tr>\n",
       "      <th>30</th>\n",
       "      <td>76</td>\n",
       "      <td>16</td>\n",
       "      <td>34</td>\n",
       "      <td>Control_6C_55_c1.tif</td>\n",
       "      <td>Control_6C_55_c0.tif</td>\n",
       "      <td>Control</td>\n",
       "      <td>31</td>\n",
       "      <td>21.052632</td>\n",
       "      <td>2051.105263</td>\n",
       "      <td>724.815789</td>\n",
       "      <td>...</td>\n",
       "      <td>45.374922</td>\n",
       "      <td>1.240731</td>\n",
       "      <td>190.189000</td>\n",
       "      <td>0.962690</td>\n",
       "      <td>710.560232</td>\n",
       "      <td>446.107261</td>\n",
       "      <td>0</td>\n",
       "      <td>36.750000</td>\n",
       "      <td>0.210526</td>\n",
       "      <td>0.447368</td>\n",
       "    </tr>\n",
       "  </tbody>\n",
       "</table>\n",
       "<p>5 rows × 138 columns</p>\n",
       "</div>"
      ],
      "text/plain": [
       "    Count_Nuclei  Count_RO_PositiveNuclei  Count_h2AX         FileName_DAPI  \\\n",
       "26            40                       11          70  Control_6C_51_c1.tif   \n",
       "27            68                       21         134  Control_6C_52_c1.tif   \n",
       "28            55                       23         220  Control_6C_53_c1.tif   \n",
       "29            58                       22         149  Control_6C_54_c1.tif   \n",
       "30            76                       16          34  Control_6C_55_c1.tif   \n",
       "\n",
       "          FileName_Green    Group  ImageNumber  Math_PercentPositiveNuclei  \\\n",
       "26  Control_6C_51_c0.tif  Control           27                   27.500000   \n",
       "27  Control_6C_52_c0.tif  Control           28                   30.882353   \n",
       "28  Control_6C_53_c0.tif  Control           29                   41.818182   \n",
       "29  Control_6C_54_c0.tif  Control           30                   37.931034   \n",
       "30  Control_6C_55_c0.tif  Control           31                   21.052632   \n",
       "\n",
       "    Mean_Nuclei_AreaShape_Area  Mean_Nuclei_AreaShape_Center_X  ...  \\\n",
       "26                 2537.675000                      713.550000  ...   \n",
       "27                 2126.000000                      584.352941  ...   \n",
       "28                 2171.436364                      739.909091  ...   \n",
       "29                 2011.655172                      685.706897  ...   \n",
       "30                 2051.105263                      724.815789  ...   \n",
       "\n",
       "    Mean_h2AX_Mean_Nuclei_AreaShape_MinorAxisLength  \\\n",
       "26                                        50.276559   \n",
       "27                                        49.682507   \n",
       "28                                        44.324251   \n",
       "29                                        45.821882   \n",
       "30                                        45.374922   \n",
       "\n",
       "    Mean_h2AX_Mean_Nuclei_AreaShape_Orientation  \\\n",
       "26                                     0.242227   \n",
       "27                                    14.882831   \n",
       "28                                    19.282458   \n",
       "29                                     5.538021   \n",
       "30                                     1.240731   \n",
       "\n",
       "    Mean_h2AX_Mean_Nuclei_AreaShape_Perimeter  \\\n",
       "26                                 212.363818   \n",
       "27                                 203.077905   \n",
       "28                                 193.348870   \n",
       "29                                 190.540546   \n",
       "30                                 190.189000   \n",
       "\n",
       "    Mean_h2AX_Mean_Nuclei_AreaShape_Solidity  \\\n",
       "26                                  0.974355   \n",
       "27                                  0.964558   \n",
       "28                                  0.964099   \n",
       "29                                  0.968580   \n",
       "30                                  0.962690   \n",
       "\n",
       "    Mean_h2AX_Mean_Nuclei_Location_Center_X  \\\n",
       "26                               679.303899   \n",
       "27                               617.482228   \n",
       "28                               821.585918   \n",
       "29                               656.616484   \n",
       "30                               710.560232   \n",
       "\n",
       "    Mean_h2AX_Mean_Nuclei_Location_Center_Y  \\\n",
       "26                               477.036519   \n",
       "27                               444.457566   \n",
       "28                               473.335264   \n",
       "29                               528.342570   \n",
       "30                               446.107261   \n",
       "\n",
       "    Mean_h2AX_Mean_Nuclei_Location_Center_Z  \\\n",
       "26                                        0   \n",
       "27                                        0   \n",
       "28                                        0   \n",
       "29                                        0   \n",
       "30                                        0   \n",
       "\n",
       "    Mean_h2AX_Mean_Nuclei_Number_Object_Number  PercentPosNuc  Foci_nuc_ratio  \n",
       "26                                   18.818182       0.275000        1.750000  \n",
       "27                                   34.952381       0.308824        1.970588  \n",
       "28                                   24.956522       0.418182        4.000000  \n",
       "29                                   29.272727       0.379310        2.568966  \n",
       "30                                   36.750000       0.210526        0.447368  \n",
       "\n",
       "[5 rows x 138 columns]"
      ]
     },
     "execution_count": 11,
     "metadata": {},
     "output_type": "execute_result"
    }
   ],
   "source": [
    "df_controls = df_groups.get_group('Control')\n",
    "df_controls.head()"
   ]
  },
  {
   "cell_type": "code",
   "execution_count": 12,
   "metadata": {},
   "outputs": [],
   "source": [
    "df_PGVG = df_groups.get_group('PGVG')\n",
    "df_Nic1 = df_groups.get_group('12.5mg')\n",
    "df_Nic2 = df_groups.get_group('25mg')\n",
    "df_Nic3 = df_groups.get_group('50mg')\n",
    "df_CSE = df_groups.get_group('CSE')"
   ]
  },
  {
   "cell_type": "code",
   "execution_count": 13,
   "metadata": {},
   "outputs": [],
   "source": [
    "df_groups = df.groupby('Group')\n",
    "\n",
    "df_controls = df_groups.get_group('Control')\n",
    "df_PGVG = df_groups.get_group('PGVG')\n",
    "df_Nic1 = df_groups.get_group('12.5mg')\n",
    "df_Nic2 = df_groups.get_group('25mg')\n",
    "df_Nic3 = df_groups.get_group('50mg')\n",
    "df_CSE = df_groups.get_group('CSE')"
   ]
  },
  {
   "cell_type": "markdown",
   "metadata": {},
   "source": [
    "# Look at the distribution of datapoints "
   ]
  },
  {
   "cell_type": "code",
   "execution_count": null,
   "metadata": {},
   "outputs": [],
   "source": []
  },
  {
   "cell_type": "code",
   "execution_count": 14,
   "metadata": {},
   "outputs": [
    {
     "data": {
      "image/png": "[encoded data removed]",
      "text/plain": [
       "<Figure size 432x288 with 1 Axes>"
      ]
     },
     "metadata": {
      "needs_background": "light"
     },
     "output_type": "display_data"
    }
   ],
   "source": [
    "import warnings\n",
    "warnings.filterwarnings('ignore')\n",
    "\n",
    "fig, ax = plt.subplots()\n",
    "control_nuclei_count_bxplt = df_controls.loc[(df_controls.Count_Nuclei.notnull()) ,'Count_Nuclei']\n",
    "PGVG_nuclei_count_bxplt = df_PGVG.loc[(df_PGVG.Count_Nuclei.notnull()) ,'Count_Nuclei']\n",
    "Nic1_nuclei_count_bxplt = df_Nic1.loc[(df_Nic1.Count_Nuclei.notnull()) ,'Count_Nuclei']\n",
    "Nic2_nuclei_count_bxplt = df_Nic2.loc[(df_Nic2.Count_Nuclei.notnull())  ,'Count_Nuclei']\n",
    "Nic3_nuclei_count_bxplt = df_Nic3.loc[(df_Nic3.Count_Nuclei.notnull())  ,'Count_Nuclei']\n",
    "CSE_nuclei_count_bxplt = df_CSE.loc[(df_CSE.Count_Nuclei.notnull())  ,'Count_Nuclei']\n",
    "ax.boxplot([control_nuclei_count_bxplt, PGVG_nuclei_count_bxplt, Nic1_nuclei_count_bxplt, Nic2_nuclei_count_bxplt, Nic3_nuclei_count_bxplt, CSE_nuclei_count_bxplt])\n",
    "ax.set(xticklabels = ['Control', 'PGVG', '12.5mg', '25mg', '50mg', 'CSE'], title=\"Nuclei Counts\")\n",
    "plt.show()"
   ]
  },
  {
   "cell_type": "code",
   "execution_count": 15,
   "metadata": {
    "scrolled": true
   },
   "outputs": [
    {
     "data": {
      "text/plain": [
       "67    71\n",
       "51    51\n",
       "49    47\n",
       "58    47\n",
       "50    46\n",
       "Name: Count_Nuclei, dtype: int64"
      ]
     },
     "execution_count": 15,
     "metadata": {},
     "output_type": "execute_result"
    }
   ],
   "source": [
    "df_PGVG['Count_Nuclei'].nlargest()"
   ]
  },
  {
   "cell_type": "code",
   "execution_count": 16,
   "metadata": {},
   "outputs": [
    {
     "data": {
      "text/plain": [
       "8      120\n",
       "43     115\n",
       "7      114\n",
       "22     109\n",
       "115    109\n",
       "Name: Count_Nuclei, dtype: int64"
      ]
     },
     "execution_count": 16,
     "metadata": {},
     "output_type": "execute_result"
    }
   ],
   "source": [
    "df['Count_Nuclei'].nlargest()"
   ]
  },
  {
   "cell_type": "code",
   "execution_count": 17,
   "metadata": {
    "scrolled": true
   },
   "outputs": [
    {
     "data": {
      "image/png": "[encoded data removed]",
      "text/plain": [
       "<Figure size 432x288 with 1 Axes>"
      ]
     },
     "metadata": {
      "needs_background": "light"
     },
     "output_type": "display_data"
    }
   ],
   "source": [
    "import warnings\n",
    "warnings.filterwarnings('ignore')\n",
    "\n",
    "fig, ax = plt.subplots()\n",
    "control_nuclei_count_bxplt = df_controls.loc[(df_controls.Count_h2AX.notnull()) ,'Count_h2AX']\n",
    "PGVG_nuclei_count_bxplt = df_PGVG.loc[(df_PGVG.Count_h2AX.notnull()) ,'Count_h2AX']\n",
    "Nic1_nuclei_count_bxplt = df_Nic1.loc[(df_Nic1.Count_h2AX.notnull()) ,'Count_h2AX']\n",
    "Nic2_nuclei_count_bxplt = df_Nic2.loc[(df_Nic2.Count_h2AX.notnull())  ,'Count_h2AX']\n",
    "Nic3_nuclei_count_bxplt = df_Nic3.loc[(df_Nic3.Count_h2AX.notnull())  ,'Count_h2AX']\n",
    "CSE_nuclei_count_bxplt = df_CSE.loc[(df_CSE.Count_h2AX.notnull())  ,'Count_h2AX']\n",
    "ax.boxplot([control_nuclei_count_bxplt, PGVG_nuclei_count_bxplt, Nic1_nuclei_count_bxplt, Nic2_nuclei_count_bxplt, Nic3_nuclei_count_bxplt, CSE_nuclei_count_bxplt])\n",
    "ax.set(xticklabels = ['Control', 'PGVG', '12.5mg', '25mg', '50mg', 'CSE'], title=\"Foci Counts\")\n",
    "plt.show()"
   ]
  },
  {
   "cell_type": "code",
   "execution_count": 18,
   "metadata": {},
   "outputs": [
    {
     "data": {
      "text/plain": [
       "67    417\n",
       "63    366\n",
       "49    352\n",
       "68    328\n",
       "11    312\n",
       "Name: Count_h2AX, dtype: int64"
      ]
     },
     "execution_count": 18,
     "metadata": {},
     "output_type": "execute_result"
    }
   ],
   "source": [
    "df['Count_h2AX'].nlargest()"
   ]
  },
  {
   "cell_type": "code",
   "execution_count": null,
   "metadata": {},
   "outputs": [],
   "source": []
  },
  {
   "cell_type": "markdown",
   "metadata": {},
   "source": [
    "Check the percent pos coumn I calculated"
   ]
  },
  {
   "cell_type": "code",
   "execution_count": 19,
   "metadata": {
    "scrolled": true
   },
   "outputs": [
    {
     "data": {
      "image/png": "[encoded data removed]",
      "text/plain": [
       "<Figure size 432x288 with 1 Axes>"
      ]
     },
     "metadata": {
      "needs_background": "light"
     },
     "output_type": "display_data"
    }
   ],
   "source": [
    "import warnings\n",
    "warnings.filterwarnings('ignore')\n",
    "\n",
    "fig, ax = plt.subplots()\n",
    "control_nuclei_count_bxplt = df_controls.loc[(df_controls.PercentPosNuc.notnull()) ,'PercentPosNuc']\n",
    "PGVG_nuclei_count_bxplt = df_PGVG.loc[(df_PGVG.PercentPosNuc.notnull()) ,'PercentPosNuc']\n",
    "Nic1_nuclei_count_bxplt = df_Nic1.loc[(df_Nic1.PercentPosNuc.notnull()) ,'PercentPosNuc']\n",
    "Nic2_nuclei_count_bxplt = df_Nic2.loc[(df_Nic2.PercentPosNuc.notnull())  ,'PercentPosNuc']\n",
    "Nic3_nuclei_count_bxplt = df_Nic3.loc[(df_Nic3.PercentPosNuc.notnull())  ,'PercentPosNuc']\n",
    "CSE_nuclei_count_bxplt = df_CSE.loc[(df_CSE.PercentPosNuc.notnull())  ,'PercentPosNuc']\n",
    "ax.boxplot([control_nuclei_count_bxplt, PGVG_nuclei_count_bxplt, Nic1_nuclei_count_bxplt, Nic2_nuclei_count_bxplt, Nic3_nuclei_count_bxplt, CSE_nuclei_count_bxplt])\n",
    "ax.set(xticklabels = ['Control', 'PGVG', '12.5mg', '25mg', '50mg', 'CSE'], title=\"Percent Positive\")\n",
    "plt.show()"
   ]
  },
  {
   "cell_type": "code",
   "execution_count": null,
   "metadata": {},
   "outputs": [],
   "source": []
  },
  {
   "cell_type": "markdown",
   "metadata": {},
   "source": [
    "# Make sure its the same as the CP calculated percent pos "
   ]
  },
  {
   "cell_type": "code",
   "execution_count": 20,
   "metadata": {
    "scrolled": true
   },
   "outputs": [
    {
     "data": {
      "image/png": "[encoded data removed]",
      "text/plain": [
       "<Figure size 432x288 with 1 Axes>"
      ]
     },
     "metadata": {
      "needs_background": "light"
     },
     "output_type": "display_data"
    }
   ],
   "source": [
    "import warnings\n",
    "warnings.filterwarnings('ignore')\n",
    "\n",
    "fig, ax = plt.subplots()\n",
    "control_nuclei_count_bxplt = df_controls.loc[(df_controls.Math_PercentPositiveNuclei.notnull()) ,'Math_PercentPositiveNuclei']\n",
    "PGVG_nuclei_count_bxplt = df_PGVG.loc[(df_PGVG.Math_PercentPositiveNuclei.notnull()) ,'Math_PercentPositiveNuclei']\n",
    "Nic1_nuclei_count_bxplt = df_Nic1.loc[(df_Nic1.Math_PercentPositiveNuclei.notnull()) ,'Math_PercentPositiveNuclei']\n",
    "Nic2_nuclei_count_bxplt = df_Nic2.loc[(df_Nic2.Math_PercentPositiveNuclei.notnull())  ,'Math_PercentPositiveNuclei']\n",
    "Nic3_nuclei_count_bxplt = df_Nic3.loc[(df_Nic3.Math_PercentPositiveNuclei.notnull())  ,'Math_PercentPositiveNuclei']\n",
    "CSE_nuclei_count_bxplt = df_CSE.loc[(df_CSE.Math_PercentPositiveNuclei.notnull())  ,'Math_PercentPositiveNuclei']\n",
    "ax.boxplot([control_nuclei_count_bxplt, PGVG_nuclei_count_bxplt, Nic1_nuclei_count_bxplt, Nic2_nuclei_count_bxplt, Nic3_nuclei_count_bxplt, CSE_nuclei_count_bxplt])\n",
    "ax.set(xticklabels = ['Control', 'PGVG', '12.5mg', '25mg', '50mg', 'CSE'], title=\"Percent Positive\")\n",
    "plt.show()\n",
    "\n"
   ]
  },
  {
   "cell_type": "code",
   "execution_count": 21,
   "metadata": {},
   "outputs": [
    {
     "data": {
      "image/png": "[encoded data removed]",
      "text/plain": [
       "<Figure size 432x288 with 1 Axes>"
      ]
     },
     "metadata": {
      "needs_background": "light"
     },
     "output_type": "display_data"
    }
   ],
   "source": [
    "#Foci_nuc_ratio\n",
    "\n",
    "import warnings\n",
    "warnings.filterwarnings('ignore')\n",
    "\n",
    "fig, ax = plt.subplots()\n",
    "control_nuclei_count_bxplt = df_controls.loc[(df_controls.Foci_nuc_ratio.notnull()) ,'Foci_nuc_ratio']\n",
    "PGVG_nuclei_count_bxplt = df_PGVG.loc[(df_PGVG.Foci_nuc_ratio.notnull()) ,'Foci_nuc_ratio']\n",
    "Nic1_nuclei_count_bxplt = df_Nic1.loc[(df_Nic1.Foci_nuc_ratio.notnull()) ,'Foci_nuc_ratio']\n",
    "Nic2_nuclei_count_bxplt = df_Nic2.loc[(df_Nic2.Foci_nuc_ratio.notnull())  ,'Foci_nuc_ratio']\n",
    "Nic3_nuclei_count_bxplt = df_Nic3.loc[(df_Nic3.Foci_nuc_ratio.notnull())  ,'Foci_nuc_ratio']\n",
    "CSE_nuclei_count_bxplt = df_CSE.loc[(df_CSE.Foci_nuc_ratio.notnull())  ,'Foci_nuc_ratio']\n",
    "ax.boxplot([control_nuclei_count_bxplt, PGVG_nuclei_count_bxplt, Nic1_nuclei_count_bxplt, Nic2_nuclei_count_bxplt, Nic3_nuclei_count_bxplt, CSE_nuclei_count_bxplt])\n",
    "ax.set(xticklabels = ['Control', 'PGVG', '12.5mg', '25mg', '50mg', 'CSE'], title=\"Foci_nuc_ratio\")\n",
    "plt.show()\n",
    "\n",
    "\n"
   ]
  },
  {
   "cell_type": "markdown",
   "metadata": {},
   "source": [
    "# Look at Foci Intensities across groups_Means\n",
    "\n",
    "import warnings\n",
    "warnings.filterwarnings('ignore')\n",
    "\n",
    "fig, ax = plt.subplots()\n",
    "control_nuclei_count_bxplt = df_controls.loc[(df_controls..notnull()) ,'']\n",
    "PGVG_nuclei_count_bxplt = df_PGVG.loc[(df_PGVG..notnull()) ,'']\n",
    "Nic1_nuclei_count_bxplt = df_Nic1.loc[(df_Nic1..notnull()) ,'']\n",
    "Nic2_nuclei_count_bxplt = df_Nic2.loc[(df_Nic2..notnull())  ,'']\n",
    "Nic3_nuclei_count_bxplt = df_Nic3.loc[(df_Nic3..notnull())  ,'']\n",
    "CSE_nuclei_count_bxplt = df_CSE.loc[(df_CSE..notnull())  ,'']\n",
    "ax.boxplot([control_nuclei_count_bxplt, PGVG_nuclei_count_bxplt, Nic1_nuclei_count_bxplt, Nic2_nuclei_count_bxplt, Nic3_nuclei_count_bxplt, CSE_nuclei_count_bxplt])\n",
    "ax.set(xticklabels = ['Control', 'PGVG', '12.5mg', '25mg', '50mg', 'CSE'], title=\"\")\n",
    "plt.show()"
   ]
  },
  {
   "cell_type": "code",
   "execution_count": null,
   "metadata": {},
   "outputs": [],
   "source": [
    "#Mean_h2AX_Intensity_MeanIntensity_Green\n",
    "import warnings\n",
    "warnings.filterwarnings('ignore')\n",
    "\n",
    "fig, ax = plt.subplots()\n",
    "control_nuclei_count_bxplt = df_controls.loc[(df_controls.Mean_h2AX_Intensity_MeanIntensity_Green.notnull()) ,'Mean_h2AX_Intensity_MeanIntensity_Green']\n",
    "PGVG_nuclei_count_bxplt = df_PGVG.loc[(df_PGVG.Mean_h2AX_Intensity_MeanIntensity_Green.notnull()) ,'Mean_h2AX_Intensity_MeanIntensity_Green']\n",
    "Nic1_nuclei_count_bxplt = df_Nic1.loc[(df_Nic1.Mean_h2AX_Intensity_MeanIntensity_Green.notnull()) ,'Mean_h2AX_Intensity_MeanIntensity_Green']\n",
    "Nic2_nuclei_count_bxplt = df_Nic2.loc[(df_Nic2.Mean_h2AX_Intensity_MeanIntensity_Green.notnull())  ,'Mean_h2AX_Intensity_MeanIntensity_Green']\n",
    "Nic3_nuclei_count_bxplt = df_Nic3.loc[(df_Nic3.Mean_h2AX_Intensity_MeanIntensity_Green.notnull())  ,'Mean_h2AX_Intensity_MeanIntensity_Green']\n",
    "CSE_nuclei_count_bxplt = df_CSE.loc[(df_CSE.Mean_h2AX_Intensity_MeanIntensity_Green.notnull())  ,'Mean_h2AX_Intensity_MeanIntensity_Green']\n",
    "ax.boxplot([control_nuclei_count_bxplt, PGVG_nuclei_count_bxplt, Nic1_nuclei_count_bxplt, Nic2_nuclei_count_bxplt, Nic3_nuclei_count_bxplt, CSE_nuclei_count_bxplt])\n",
    "ax.set(xticklabels = ['Control', 'PGVG', '12.5mg', '25mg', '50mg', 'CSE'], title=\"Mean_h2AX_Intensity_MeanIntensity_Green\")\n",
    "plt.show()"
   ]
  },
  {
   "cell_type": "code",
   "execution_count": null,
   "metadata": {
    "scrolled": true
   },
   "outputs": [],
   "source": [
    "#'Mean_h2AX_Intensity_IntegratedIntensity_Green'\n",
    "import warnings\n",
    "warnings.filterwarnings('ignore')\n",
    "\n",
    "fig, ax = plt.subplots()\n",
    "control_nuclei_count_bxplt = df_controls.loc[(df_controls.Mean_h2AX_Intensity_IntegratedIntensity_Green.notnull()) ,'Mean_h2AX_Intensity_IntegratedIntensity_Green']\n",
    "PGVG_nuclei_count_bxplt = df_PGVG.loc[(df_PGVG.Mean_h2AX_Intensity_IntegratedIntensity_Green.notnull()) ,'Mean_h2AX_Intensity_IntegratedIntensity_Green']\n",
    "Nic1_nuclei_count_bxplt = df_Nic1.loc[(df_Nic1.Mean_h2AX_Intensity_IntegratedIntensity_Green.notnull()) ,'Mean_h2AX_Intensity_IntegratedIntensity_Green']\n",
    "Nic2_nuclei_count_bxplt = df_Nic2.loc[(df_Nic2.Mean_h2AX_Intensity_IntegratedIntensity_Green.notnull())  ,'Mean_h2AX_Intensity_IntegratedIntensity_Green']\n",
    "Nic3_nuclei_count_bxplt = df_Nic3.loc[(df_Nic3.Mean_h2AX_Intensity_IntegratedIntensity_Green.notnull())  ,'Mean_h2AX_Intensity_IntegratedIntensity_Green']\n",
    "CSE_nuclei_count_bxplt = df_CSE.loc[(df_CSE.Mean_h2AX_Intensity_IntegratedIntensity_Green.notnull())  ,'Mean_h2AX_Intensity_IntegratedIntensity_Green']\n",
    "ax.boxplot([control_nuclei_count_bxplt, PGVG_nuclei_count_bxplt, Nic1_nuclei_count_bxplt, Nic2_nuclei_count_bxplt, Nic3_nuclei_count_bxplt, CSE_nuclei_count_bxplt])\n",
    "ax.set(xticklabels = ['Control', 'PGVG', '12.5mg', '25mg', '50mg', 'CSE'], title=\"Integrated Density\")\n",
    "plt.show()"
   ]
  },
  {
   "cell_type": "code",
   "execution_count": null,
   "metadata": {
    "scrolled": true
   },
   "outputs": [],
   "source": [
    "#'Mean_h2AX_Intensity_IntegratedIntensityEdge_Green'\n",
    "import warnings\n",
    "warnings.filterwarnings('ignore')\n",
    "\n",
    "fig, ax = plt.subplots()\n",
    "control_nuclei_count_bxplt = df_controls.loc[(df_controls.Mean_h2AX_Intensity_IntegratedIntensityEdge_Green.notnull()) ,'Mean_h2AX_Intensity_IntegratedIntensityEdge_Green']\n",
    "PGVG_nuclei_count_bxplt = df_PGVG.loc[(df_PGVG.Mean_h2AX_Intensity_IntegratedIntensityEdge_Green.notnull()) ,'Mean_h2AX_Intensity_IntegratedIntensityEdge_Green']\n",
    "Nic1_nuclei_count_bxplt = df_Nic1.loc[(df_Nic1.Mean_h2AX_Intensity_IntegratedIntensityEdge_Green.notnull()) ,'Mean_h2AX_Intensity_IntegratedIntensityEdge_Green']\n",
    "Nic2_nuclei_count_bxplt = df_Nic2.loc[(df_Nic2.Mean_h2AX_Intensity_IntegratedIntensityEdge_Green.notnull())  ,'Mean_h2AX_Intensity_IntegratedIntensityEdge_Green']\n",
    "Nic3_nuclei_count_bxplt = df_Nic3.loc[(df_Nic3.Mean_h2AX_Intensity_IntegratedIntensityEdge_Green.notnull())  ,'Mean_h2AX_Intensity_IntegratedIntensityEdge_Green']\n",
    "CSE_nuclei_count_bxplt = df_CSE.loc[(df_CSE.Mean_h2AX_Intensity_IntegratedIntensity_Green.notnull())  ,'Mean_h2AX_Intensity_IntegratedIntensity_Green']\n",
    "ax.boxplot([control_nuclei_count_bxplt, PGVG_nuclei_count_bxplt, Nic1_nuclei_count_bxplt, Nic2_nuclei_count_bxplt, Nic3_nuclei_count_bxplt, CSE_nuclei_count_bxplt])\n",
    "ax.set(xticklabels = ['Control', 'PGVG', '12.5mg', '25mg', '50mg', 'CSE'], title=\"Integrated DensityEdge\")\n",
    "plt.show()"
   ]
  },
  {
   "cell_type": "code",
   "execution_count": null,
   "metadata": {},
   "outputs": [],
   "source": [
    "#Mean_h2AX_Intensity_MADIntensity_Green\n",
    "\n",
    "import warnings\n",
    "warnings.filterwarnings('ignore')\n",
    "\n",
    "fig, ax = plt.subplots()\n",
    "control_nuclei_count_bxplt = df_controls.loc[(df_controls.Mean_h2AX_Intensity_MADIntensity_Green.notnull()) ,'Mean_h2AX_Intensity_MADIntensity_Green']\n",
    "PGVG_nuclei_count_bxplt = df_PGVG.loc[(df_PGVG.Mean_h2AX_Intensity_MADIntensity_Green.notnull()) ,'Mean_h2AX_Intensity_MADIntensity_Green']\n",
    "Nic1_nuclei_count_bxplt = df_Nic1.loc[(df_Nic1.Mean_h2AX_Intensity_MADIntensity_Green.notnull()) ,'Mean_h2AX_Intensity_MADIntensity_Green']\n",
    "Nic2_nuclei_count_bxplt = df_Nic2.loc[(df_Nic2.Mean_h2AX_Intensity_MADIntensity_Green.notnull())  ,'Mean_h2AX_Intensity_MADIntensity_Green']\n",
    "Nic3_nuclei_count_bxplt = df_Nic3.loc[(df_Nic3.Mean_h2AX_Intensity_MADIntensity_Green.notnull())  ,'Mean_h2AX_Intensity_MADIntensity_Green']\n",
    "CSE_nuclei_count_bxplt = df_CSE.loc[(df_CSE.Mean_h2AX_Intensity_MADIntensity_Green.notnull())  ,'Mean_h2AX_Intensity_MADIntensity_Green']\n",
    "ax.boxplot([control_nuclei_count_bxplt, PGVG_nuclei_count_bxplt, Nic1_nuclei_count_bxplt, Nic2_nuclei_count_bxplt, Nic3_nuclei_count_bxplt, CSE_nuclei_count_bxplt])\n",
    "ax.set(xticklabels = ['Control', 'PGVG', '12.5mg', '25mg', '50mg', 'CSE'], title=\"Mean_h2AX_Intensity_MADIntensity_Green\")\n",
    "plt.show()"
   ]
  },
  {
   "cell_type": "code",
   "execution_count": null,
   "metadata": {},
   "outputs": [],
   "source": [
    "# Look at Foci Intensities across groups_Median\n",
    "#Median_h2AX_Intensity_MeanIntensityEdge_Green\n",
    "\n",
    "import warnings\n",
    "warnings.filterwarnings('ignore')\n",
    "\n",
    "fig, ax = plt.subplots()\n",
    "control_nuclei_count_bxplt = df_controls.loc[(df_controls.Median_h2AX_Intensity_MeanIntensityEdge_Green.notnull()) ,'Median_h2AX_Intensity_MeanIntensityEdge_Green']\n",
    "PGVG_nuclei_count_bxplt = df_PGVG.loc[(df_PGVG.Median_h2AX_Intensity_MeanIntensityEdge_Green.notnull()) ,'Median_h2AX_Intensity_MeanIntensityEdge_Green']\n",
    "Nic1_nuclei_count_bxplt = df_Nic1.loc[(df_Nic1.Median_h2AX_Intensity_MeanIntensityEdge_Green.notnull()) ,'Median_h2AX_Intensity_MeanIntensityEdge_Green']\n",
    "Nic2_nuclei_count_bxplt = df_Nic2.loc[(df_Nic2.Median_h2AX_Intensity_MeanIntensityEdge_Green.notnull())  ,'Median_h2AX_Intensity_MeanIntensityEdge_Green']\n",
    "Nic3_nuclei_count_bxplt = df_Nic3.loc[(df_Nic3.Median_h2AX_Intensity_MeanIntensityEdge_Green.notnull())  ,'Median_h2AX_Intensity_MeanIntensityEdge_Green']\n",
    "CSE_nuclei_count_bxplt = df_CSE.loc[(df_CSE.Median_h2AX_Intensity_MeanIntensityEdge_Green.notnull())  ,'Median_h2AX_Intensity_MeanIntensityEdge_Green']\n",
    "ax.boxplot([control_nuclei_count_bxplt, PGVG_nuclei_count_bxplt, Nic1_nuclei_count_bxplt, Nic2_nuclei_count_bxplt, Nic3_nuclei_count_bxplt, CSE_nuclei_count_bxplt])\n",
    "ax.set(xticklabels = ['Control', 'PGVG', '12.5mg', '25mg', '50mg', 'CSE'], title=\"Median_h2AX_Intensity_MeanIntensityEdge_Green\")\n",
    "plt.show()"
   ]
  },
  {
   "cell_type": "code",
   "execution_count": null,
   "metadata": {},
   "outputs": [],
   "source": []
  },
  {
   "cell_type": "code",
   "execution_count": null,
   "metadata": {},
   "outputs": [],
   "source": []
  },
  {
   "cell_type": "code",
   "execution_count": null,
   "metadata": {},
   "outputs": [],
   "source": []
  },
  {
   "cell_type": "markdown",
   "metadata": {},
   "source": [
    "# Loook at shape of foci across groups"
   ]
  },
  {
   "cell_type": "code",
   "execution_count": null,
   "metadata": {},
   "outputs": [],
   "source": [
    "#Mean_h2AX_AreaShape_MeanRadius\n",
    "\n",
    "import warnings\n",
    "warnings.filterwarnings('ignore')\n",
    "\n",
    "fig, ax = plt.subplots()\n",
    "control_nuclei_count_bxplt = df_controls.loc[(df_controls.Mean_h2AX_AreaShape_MeanRadius.notnull()) ,'Mean_h2AX_AreaShape_MeanRadius']\n",
    "PGVG_nuclei_count_bxplt = df_PGVG.loc[(df_PGVG.Mean_h2AX_AreaShape_MeanRadius.notnull()) ,'Mean_h2AX_AreaShape_MeanRadius']\n",
    "Nic1_nuclei_count_bxplt = df_Nic1.loc[(df_Nic1.Mean_h2AX_AreaShape_MeanRadius.notnull()) ,'Mean_h2AX_AreaShape_MeanRadius']\n",
    "Nic2_nuclei_count_bxplt = df_Nic2.loc[(df_Nic2.Mean_h2AX_AreaShape_MeanRadius.notnull())  ,'Mean_h2AX_AreaShape_MeanRadius']\n",
    "Nic3_nuclei_count_bxplt = df_Nic3.loc[(df_Nic3.Mean_h2AX_AreaShape_MeanRadius.notnull())  ,'Mean_h2AX_AreaShape_MeanRadius']\n",
    "CSE_nuclei_count_bxplt = df_CSE.loc[(df_CSE.Mean_h2AX_AreaShape_MeanRadius.notnull())  ,'Mean_h2AX_AreaShape_MeanRadius']\n",
    "ax.boxplot([control_nuclei_count_bxplt, PGVG_nuclei_count_bxplt, Nic1_nuclei_count_bxplt, Nic2_nuclei_count_bxplt, Nic3_nuclei_count_bxplt, CSE_nuclei_count_bxplt])\n",
    "ax.set(xticklabels = ['Control', 'PGVG', '12.5mg', '25mg', '50mg', 'CSE'], title=\"Mean_h2AX_AreaShape_MeanRadius\")\n",
    "plt.show()"
   ]
  },
  {
   "cell_type": "code",
   "execution_count": null,
   "metadata": {},
   "outputs": [],
   "source": [
    "df['Mean_h2AX_AreaShape_MeanRadius'].describe()"
   ]
  },
  {
   "cell_type": "code",
   "execution_count": null,
   "metadata": {},
   "outputs": [],
   "source": []
  },
  {
   "cell_type": "code",
   "execution_count": null,
   "metadata": {},
   "outputs": [],
   "source": [
    "#Mean_h2AX_Classify_hi\n",
    "import warnings\n",
    "warnings.filterwarnings('ignore')\n",
    "\n",
    "fig, ax = plt.subplots()\n",
    "control_nuclei_count_bxplt = df_controls.loc[(df_controls.Mean_h2AX_Classify_hi.notnull()) ,'Mean_h2AX_Classify_hi']\n",
    "PGVG_nuclei_count_bxplt = df_PGVG.loc[(df_PGVG.Mean_h2AX_Classify_hi.notnull()) ,'Mean_h2AX_Classify_hi']\n",
    "Nic1_nuclei_count_bxplt = df_Nic1.loc[(df_Nic1.Mean_h2AX_Classify_hi.notnull()) ,'Mean_h2AX_Classify_hi']\n",
    "Nic2_nuclei_count_bxplt = df_Nic2.loc[(df_Nic2.Mean_h2AX_Classify_hi.notnull())  ,'Mean_h2AX_Classify_hi']\n",
    "Nic3_nuclei_count_bxplt = df_Nic3.loc[(df_Nic3.Mean_h2AX_Classify_hi.notnull())  ,'Mean_h2AX_Classify_hi']\n",
    "CSE_nuclei_count_bxplt = df_CSE.loc[(df_CSE.Mean_h2AX_Classify_hi.notnull())  ,'Mean_h2AX_Classify_hi']\n",
    "ax.boxplot([control_nuclei_count_bxplt, PGVG_nuclei_count_bxplt, Nic1_nuclei_count_bxplt, Nic2_nuclei_count_bxplt, Nic3_nuclei_count_bxplt, CSE_nuclei_count_bxplt])\n",
    "ax.set(xticklabels = ['Control', 'PGVG', '12.5mg', '25mg', '50mg', 'CSE'], title=\"Mean_h2AX_Classify_hi\")\n",
    "plt.show()"
   ]
  },
  {
   "cell_type": "code",
   "execution_count": null,
   "metadata": {},
   "outputs": [],
   "source": [
    "#Mean_h2AX_Classify_low\n",
    "import warnings\n",
    "warnings.filterwarnings('ignore')\n",
    "\n",
    "fig, ax = plt.subplots()\n",
    "control_nuclei_count_bxplt = df_controls.loc[(df_controls.Mean_h2AX_Classify_low.notnull()) ,'Mean_h2AX_Classify_low']\n",
    "PGVG_nuclei_count_bxplt = df_PGVG.loc[(df_PGVG.Mean_h2AX_Classify_low.notnull()) ,'Mean_h2AX_Classify_low']\n",
    "Nic1_nuclei_count_bxplt = df_Nic1.loc[(df_Nic1.Mean_h2AX_Classify_low.notnull()) ,'Mean_h2AX_Classify_low']\n",
    "Nic2_nuclei_count_bxplt = df_Nic2.loc[(df_Nic2.Mean_h2AX_Classify_low.notnull())  ,'Mean_h2AX_Classify_low']\n",
    "Nic3_nuclei_count_bxplt = df_Nic3.loc[(df_Nic3.Mean_h2AX_Classify_low.notnull())  ,'Mean_h2AX_Classify_low']\n",
    "CSE_nuclei_count_bxplt = df_CSE.loc[(df_CSE.Mean_h2AX_Classify_hi.notnull())  ,'Mean_h2AX_Classify_low']\n",
    "ax.boxplot([control_nuclei_count_bxplt, PGVG_nuclei_count_bxplt, Nic1_nuclei_count_bxplt, Nic2_nuclei_count_bxplt, Nic3_nuclei_count_bxplt, CSE_nuclei_count_bxplt])\n",
    "ax.set(xticklabels = ['Control', 'PGVG', '12.5mg', '25mg', '50mg', 'CSE'], title=\"Mean_h2AX_Classify_low\")\n",
    "plt.show()"
   ]
  },
  {
   "cell_type": "code",
   "execution_count": null,
   "metadata": {},
   "outputs": [],
   "source": []
  },
  {
   "cell_type": "code",
   "execution_count": null,
   "metadata": {},
   "outputs": [],
   "source": []
  },
  {
   "cell_type": "code",
   "execution_count": null,
   "metadata": {},
   "outputs": [],
   "source": []
  },
  {
   "cell_type": "code",
   "execution_count": null,
   "metadata": {},
   "outputs": [],
   "source": []
  },
  {
   "cell_type": "markdown",
   "metadata": {},
   "source": [
    "# Look Into control data spread "
   ]
  },
  {
   "cell_type": "code",
   "execution_count": 22,
   "metadata": {},
   "outputs": [],
   "source": [
    "Control_PctPos = df.loc[df['Group'] == 'Control', 'PercentPosNuc']"
   ]
  },
  {
   "cell_type": "code",
   "execution_count": 23,
   "metadata": {},
   "outputs": [
    {
     "data": {
      "text/plain": [
       "count    23.000000\n",
       "mean      0.282223\n",
       "std       0.079000\n",
       "min       0.152381\n",
       "25%       0.216061\n",
       "50%       0.282609\n",
       "75%       0.336478\n",
       "max       0.428571\n",
       "Name: PercentPosNuc, dtype: float64"
      ]
     },
     "execution_count": 23,
     "metadata": {},
     "output_type": "execute_result"
    }
   ],
   "source": [
    "Control_PctPos.describe()"
   ]
  },
  {
   "cell_type": "code",
   "execution_count": 24,
   "metadata": {},
   "outputs": [
    {
     "data": {
      "text/plain": [
       "0.42857142857142855"
      ]
     },
     "execution_count": 24,
     "metadata": {},
     "output_type": "execute_result"
    }
   ],
   "source": [
    "df.loc[df['Group'] == 'Control', 'PercentPosNuc'].max()"
   ]
  },
  {
   "cell_type": "code",
   "execution_count": 25,
   "metadata": {},
   "outputs": [
    {
     "data": {
      "image/png": "[encoded data removed]",
      "text/plain": [
       "<Figure size 432x288 with 1 Axes>"
      ]
     },
     "metadata": {
      "needs_background": "light"
     },
     "output_type": "display_data"
    }
   ],
   "source": [
    "#histogram of Control Data \n",
    "import warnings\n",
    "warnings.filterwarnings('ignore')\n",
    "\n",
    "fig, ax = plt.subplots()\n",
    "ax.hist(df_controls['PercentPosNuc'],  color='blue', alpha=.3, edgecolor='black', bins=50)\n",
    "ax.set(xlabel=\"Control PercentPosNuc\")\n",
    "\n",
    "plt.show()"
   ]
  },
  {
   "cell_type": "code",
   "execution_count": 26,
   "metadata": {},
   "outputs": [
    {
     "data": {
      "text/plain": [
       "47    0.428571\n",
       "28    0.418182\n",
       "29    0.379310\n",
       "34    0.360000\n",
       "37    0.351852\n",
       "Name: PercentPosNuc, dtype: float64"
      ]
     },
     "execution_count": 26,
     "metadata": {},
     "output_type": "execute_result"
    }
   ],
   "source": [
    "df_controls['PercentPosNuc'].nlargest() #Here we see the max 10 values"
   ]
  },
  {
   "cell_type": "markdown",
   "metadata": {},
   "source": [
    "# Outlier removal\n",
    "df_controls_01[df_controls_01.between(df_controls_01.quantile(.15), df_controls_01.quantile(.85))]"
   ]
  },
  {
   "cell_type": "code",
   "execution_count": 27,
   "metadata": {},
   "outputs": [
    {
     "data": {
      "text/plain": [
       "23"
      ]
     },
     "execution_count": 27,
     "metadata": {},
     "output_type": "execute_result"
    }
   ],
   "source": [
    "len(Control_PctPos)"
   ]
  },
  {
   "cell_type": "code",
   "execution_count": 28,
   "metadata": {},
   "outputs": [
    {
     "data": {
      "text/plain": [
       "15"
      ]
     },
     "execution_count": 28,
     "metadata": {},
     "output_type": "execute_result"
    }
   ],
   "source": [
    "Control_PctPos_RemOL = Control_PctPos[Control_PctPos.between(Control_PctPos.quantile(.15), Control_PctPos.quantile(.85))]\n",
    "len(Control_PctPos_RemOL)"
   ]
  },
  {
   "cell_type": "code",
   "execution_count": 29,
   "metadata": {},
   "outputs": [
    {
     "data": {
      "text/plain": [
       "(23, 15)"
      ]
     },
     "execution_count": 29,
     "metadata": {},
     "output_type": "execute_result"
    }
   ],
   "source": [
    "df_controls = df_groups.get_group('Control')\n",
    "df_controls_RemOL = df_controls[df_controls['PercentPosNuc'].between(df_controls['PercentPosNuc'].quantile(.15), df_controls['PercentPosNuc'].quantile(.85))]\n",
    "len(df_controls), len(df_controls_RemOL)"
   ]
  },
  {
   "cell_type": "code",
   "execution_count": 30,
   "metadata": {},
   "outputs": [
    {
     "data": {
      "image/png": "[encoded data removed]",
      "text/plain": [
       "<Figure size 432x288 with 1 Axes>"
      ]
     },
     "metadata": {
      "needs_background": "light"
     },
     "output_type": "display_data"
    }
   ],
   "source": [
    "#histogram of Control Data with outliers removed\n",
    "import warnings\n",
    "warnings.filterwarnings('ignore')\n",
    "\n",
    "fig, ax = plt.subplots()\n",
    "ax.hist(df_controls_RemOL['PercentPosNuc'],  color='blue', alpha=.3, edgecolor='black', bins=50)\n",
    "ax.set(xlabel=\"Control PercentPosNuc Cleaned\")\n",
    "\n",
    "plt.show()"
   ]
  },
  {
   "cell_type": "markdown",
   "metadata": {},
   "source": [
    "Do it for the rest"
   ]
  },
  {
   "cell_type": "code",
   "execution_count": 31,
   "metadata": {},
   "outputs": [
    {
     "data": {
      "text/plain": [
       "(20, 14)"
      ]
     },
     "execution_count": 31,
     "metadata": {},
     "output_type": "execute_result"
    }
   ],
   "source": [
    "df_PGVG_RemOL = df_PGVG[df_PGVG['PercentPosNuc'].between(df_PGVG['PercentPosNuc'].quantile(.15), df_PGVG['PercentPosNuc'].quantile(.85))]\n",
    "len(df_PGVG), len(df_PGVG_RemOL)"
   ]
  },
  {
   "cell_type": "code",
   "execution_count": 32,
   "metadata": {},
   "outputs": [],
   "source": [
    "df_PGVG_RemOL.to_csv('cleanedPGVG.csv')"
   ]
  },
  {
   "cell_type": "code",
   "execution_count": 33,
   "metadata": {},
   "outputs": [
    {
     "data": {
      "text/plain": [
       "(22, 14)"
      ]
     },
     "execution_count": 33,
     "metadata": {},
     "output_type": "execute_result"
    }
   ],
   "source": [
    "df_Nic1_RemOL = df_Nic1[df_Nic1['PercentPosNuc'].between(df_Nic1['PercentPosNuc'].quantile(.15), df_Nic1['PercentPosNuc'].quantile(.85))]\n",
    "len(df_Nic1), len(df_Nic1_RemOL)"
   ]
  },
  {
   "cell_type": "code",
   "execution_count": 34,
   "metadata": {},
   "outputs": [],
   "source": [
    "df_Nic1_RemOL.to_csv('cleanedNic1.csv')"
   ]
  },
  {
   "cell_type": "code",
   "execution_count": 35,
   "metadata": {},
   "outputs": [
    {
     "data": {
      "text/plain": [
       "(22, 15)"
      ]
     },
     "execution_count": 35,
     "metadata": {},
     "output_type": "execute_result"
    }
   ],
   "source": [
    "df_Nic2_RemOL = df_Nic2[df_Nic2['PercentPosNuc'].between(df_Nic2['PercentPosNuc'].quantile(.15), df_Nic2['PercentPosNuc'].quantile(.85))]\n",
    "len(df_Nic2), len(df_Nic2_RemOL)"
   ]
  },
  {
   "cell_type": "code",
   "execution_count": 36,
   "metadata": {},
   "outputs": [],
   "source": [
    "df_Nic2_RemOL.to_csv('cleanedNic2.csv')"
   ]
  },
  {
   "cell_type": "code",
   "execution_count": 37,
   "metadata": {},
   "outputs": [
    {
     "data": {
      "text/plain": [
       "(22, 14)"
      ]
     },
     "execution_count": 37,
     "metadata": {},
     "output_type": "execute_result"
    }
   ],
   "source": [
    "df_Nic3_RemOL = df_Nic3[df_Nic3['PercentPosNuc'].between(df_Nic3['PercentPosNuc'].quantile(.15), df_Nic3['PercentPosNuc'].quantile(.85))]\n",
    "len(df_Nic3), len(df_Nic3_RemOL)"
   ]
  },
  {
   "cell_type": "code",
   "execution_count": 38,
   "metadata": {},
   "outputs": [],
   "source": [
    "df_Nic3_RemOL.to_csv('cleanedNic3.csv')"
   ]
  },
  {
   "cell_type": "code",
   "execution_count": 39,
   "metadata": {},
   "outputs": [
    {
     "data": {
      "text/plain": [
       "(26, 18)"
      ]
     },
     "execution_count": 39,
     "metadata": {},
     "output_type": "execute_result"
    }
   ],
   "source": [
    "df_CSE_RemOL = df_CSE[df_CSE['PercentPosNuc'].between(df_CSE['PercentPosNuc'].quantile(.15), df_CSE['PercentPosNuc'].quantile(.85))]\n",
    "len(df_CSE), len(df_CSE_RemOL)"
   ]
  },
  {
   "cell_type": "code",
   "execution_count": 40,
   "metadata": {},
   "outputs": [],
   "source": [
    "df_CSE_RemOL.to_csv('cleanedCSE.csv')"
   ]
  },
  {
   "cell_type": "code",
   "execution_count": 41,
   "metadata": {},
   "outputs": [],
   "source": [
    "df_controls_RemOL.to_csv('cleanedControls.csv')"
   ]
  },
  {
   "cell_type": "markdown",
   "metadata": {},
   "source": [
    "# Look at distribution of cleaned data"
   ]
  },
  {
   "cell_type": "code",
   "execution_count": 42,
   "metadata": {},
   "outputs": [
    {
     "data": {
      "image/png": "[encoded data removed]",
      "text/plain": [
       "<Figure size 432x288 with 1 Axes>"
      ]
     },
     "metadata": {
      "needs_background": "light"
     },
     "output_type": "display_data"
    }
   ],
   "source": [
    "import warnings\n",
    "warnings.filterwarnings('ignore')\n",
    "\n",
    "fig, ax = plt.subplots()\n",
    "control_nuclei_count_bxplt = df_controls_RemOL.loc[(df_controls.PercentPosNuc.notnull()) ,'PercentPosNuc']\n",
    "PGVG_nuclei_count_bxplt = df_PGVG_RemOL.loc[(df_PGVG.PercentPosNuc.notnull()) ,'PercentPosNuc']\n",
    "Nic1_nuclei_count_bxplt = df_Nic1_RemOL.loc[(df_Nic1.PercentPosNuc.notnull()) ,'PercentPosNuc']\n",
    "Nic2_nuclei_count_bxplt = df_Nic2_RemOL.loc[(df_Nic2.PercentPosNuc.notnull())  ,'PercentPosNuc']\n",
    "Nic3_nuclei_count_bxplt = df_Nic3_RemOL.loc[(df_Nic3.PercentPosNuc.notnull())  ,'PercentPosNuc']\n",
    "CSE_nuclei_count_bxplt = df_CSE_RemOL.loc[(df_CSE.PercentPosNuc.notnull())  ,'PercentPosNuc']\n",
    "ax.boxplot([control_nuclei_count_bxplt, PGVG_nuclei_count_bxplt, Nic1_nuclei_count_bxplt, Nic2_nuclei_count_bxplt, Nic3_nuclei_count_bxplt, CSE_nuclei_count_bxplt])\n",
    "ax.set(xticklabels = ['Control', 'PGVG', '12.5mg', '25mg', '50mg', 'CSE'], title=\"Percent Positive\")\n",
    "plt.show()"
   ]
  },
  {
   "cell_type": "code",
   "execution_count": 38,
   "metadata": {
    "scrolled": true
   },
   "outputs": [
    {
     "data": {
      "text/plain": [
       "<matplotlib.axes._subplots.AxesSubplot at 0x18f06c2fb88>"
      ]
     },
     "execution_count": 38,
     "metadata": {},
     "output_type": "execute_result"
    },
    {
     "data": {
      "image/png": "[encoded data removed]",
      "text/plain": [
       "<Figure size 432x288 with 1 Axes>"
      ]
     },
     "metadata": {
      "needs_background": "light"
     },
     "output_type": "display_data"
    }
   ],
   "source": [
    "import warnings\n",
    "warnings.filterwarnings('ignore')\n",
    "\n",
    "sns.distplot(df_controls_RemOL.loc[(df_controls_RemOL.PercentPosNuc.notnull()),'PercentPosNuc'], hist = False, kde = True,\n",
    "                 kde_kws = {'shade': True, 'linewidth': 3}, \n",
    "                  label = \"Control\")\n",
    "sns.distplot(df_PGVG_RemOL.loc[(df_PGVG_RemOL.PercentPosNuc.notnull()),'PercentPosNuc'], hist = False, kde = True,\n",
    "                 kde_kws = {'shade': True, 'linewidth': 3}, \n",
    "                  label = \"PGVG\")\n",
    "\n",
    "sns.distplot(df_Nic1_RemOL.loc[(df_Nic1_RemOL.PercentPosNuc.notnull()),'PercentPosNuc'], hist = False, kde = True,\n",
    "                 kde_kws = {'shade': True, 'linewidth': 3}, \n",
    "                  label = \"Nic1\")\n",
    "sns.distplot(df_Nic2_RemOL.loc[(df_Nic2_RemOL.PercentPosNuc.notnull()),'PercentPosNuc'], hist = False, kde = True,\n",
    "                 kde_kws = {'shade': True, 'linewidth': 3}, \n",
    "                  label = \"Nic2\")\n",
    "\n",
    "sns.distplot(df_Nic3_RemOL.loc[(df_Nic3_RemOL.PercentPosNuc.notnull()),'PercentPosNuc'], hist = False, kde = True,\n",
    "                 kde_kws = {'shade': True, 'linewidth': 3}, \n",
    "                  label = \"Nic3\")\n",
    "\n",
    "sns.distplot(df_CSE_RemOL.loc[(df_CSE_RemOL.PercentPosNuc.notnull()),'PercentPosNuc'], hist = False, kde = True,\n",
    "                 kde_kws = {'shade': True, 'linewidth': 3}, \n",
    "                  label = \"CSE\")\n"
   ]
  },
  {
   "cell_type": "code",
   "execution_count": null,
   "metadata": {},
   "outputs": [],
   "source": [
    "\n"
   ]
  },
  {
   "cell_type": "code",
   "execution_count": null,
   "metadata": {},
   "outputs": [],
   "source": []
  },
  {
   "cell_type": "code",
   "execution_count": null,
   "metadata": {},
   "outputs": [],
   "source": []
  },
  {
   "cell_type": "code",
   "execution_count": null,
   "metadata": {},
   "outputs": [],
   "source": []
  },
  {
   "cell_type": "code",
   "execution_count": null,
   "metadata": {},
   "outputs": [],
   "source": []
  },
  {
   "cell_type": "code",
   "execution_count": null,
   "metadata": {},
   "outputs": [],
   "source": []
  },
  {
   "cell_type": "code",
   "execution_count": null,
   "metadata": {},
   "outputs": [],
   "source": []
  },
  {
   "cell_type": "code",
   "execution_count": null,
   "metadata": {},
   "outputs": [],
   "source": []
  },
  {
   "cell_type": "code",
   "execution_count": null,
   "metadata": {},
   "outputs": [],
   "source": []
  },
  {
   "cell_type": "code",
   "execution_count": null,
   "metadata": {},
   "outputs": [],
   "source": []
  },
  {
   "cell_type": "code",
   "execution_count": null,
   "metadata": {},
   "outputs": [],
   "source": []
  },
  {
   "cell_type": "code",
   "execution_count": null,
   "metadata": {},
   "outputs": [],
   "source": []
  }
 ],
 "metadata": {
  "kernelspec": {
   "display_name": "Python 3",
   "language": "python",
   "name": "python3"
  },
  "language_info": {
   "codemirror_mode": {
    "name": "ipython",
    "version": 3
   },
   "file_extension": ".py",
   "mimetype": "text/x-python",
   "name": "python",
   "nbconvert_exporter": "python",
   "pygments_lexer": "ipython3",
   "version": "3.7.6"
  }
 },
 "nbformat": 4,
 "nbformat_minor": 4
}
